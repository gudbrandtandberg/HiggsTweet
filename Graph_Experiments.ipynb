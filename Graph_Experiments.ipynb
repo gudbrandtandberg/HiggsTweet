{
 "cells": [
  {
   "cell_type": "markdown",
   "metadata": {},
   "source": [
    "# Graph Experiments"
   ]
  },
  {
   "cell_type": "code",
   "execution_count": 1,
   "metadata": {},
   "outputs": [
    {
     "name": "stdout",
     "output_type": "stream",
     "text": [
      "Importing Jupyter notebook from Preprocessing.ipynb\n"
     ]
    }
   ],
   "source": [
    "import networkx as nx\n",
    "import matplotlib.pyplot as plt\n",
    "import numpy as np\n",
    "import os, sys, datetime\n",
    "import pandas as pd\n",
    "import nbimporter\n",
    "\n",
    "import Preprocessing as pre"
   ]
  },
  {
   "cell_type": "markdown",
   "metadata": {},
   "source": [
    "## Load Complete Social + Action Graph"
   ]
  },
  {
   "cell_type": "code",
   "execution_count": 2,
   "metadata": {},
   "outputs": [
    {
     "name": "stdout",
     "output_type": "stream",
     "text": [
      "563069\n",
      "304691\n",
      "466545\n",
      "456626\n",
      "14855842\n"
     ]
    }
   ],
   "source": [
    "# Load weighted digraph from file \n",
    "\n",
    "G = nx.read_weighted_edgelist(\"Data/higggs-complete-graph.edgelist\",\n",
    "                              create_using=nx.DiGraph(), nodetype=int)\n",
    "\n",
    "social = pre.load_social_graph()\n",
    "\n",
    "log = pre.read_log()\n",
    "\n",
    "print(log.shape[0])\n",
    "print(len(G))\n",
    "print(len(G.edges))\n",
    "print(len(social))\n",
    "print(len(social.edges))"
   ]
  },
  {
   "cell_type": "code",
   "execution_count": null,
   "metadata": {},
   "outputs": [],
   "source": []
  },
  {
   "cell_type": "markdown",
   "metadata": {},
   "source": [
    "## Plot Degree Distributions"
   ]
  },
  {
   "cell_type": "code",
   "execution_count": 3,
   "metadata": {
    "collapsed": true
   },
   "outputs": [],
   "source": [
    "in_degree = sorted([d for (n, d) in social.in_degree()], reverse=True)\n",
    "out_degree = sorted([d for (n, d) in social.out_degree()], reverse=True)"
   ]
  },
  {
   "cell_type": "code",
   "execution_count": 7,
   "metadata": {
    "scrolled": true
   },
   "outputs": [
    {
     "data": {
      "image/png": "[encoded data removed]",
      "text/plain": [
       "<matplotlib.figure.Figure at 0x32ff91cf8>"
      ]
     },
     "metadata": {},
     "output_type": "display_data"
    }
   ],
   "source": [
    "fig = plt.figure(figsize=(8,5))\n",
    "\n",
    "plt.subplot(1, 2, 1)\n",
    "plt.semilogy(range(len(social)), in_degree, color=\"k\")\n",
    "plt.title(\"In-degree dist.\")\n",
    "\n",
    "plt.subplot(1, 2, 2)\n",
    "plt.semilogy(range(len(social)), out_degree, color=\"k\")\n",
    "plt.title(\"Out-degree dist.\")\n",
    "\n",
    "for ax in fig.axes:\n",
    "    plt.sca(ax)\n",
    "    plt.xticks(rotation=310)\n",
    "\n",
    "plt.savefig(\"Report/Figures/deg.png\")\n",
    "plt.show()\n"
   ]
  },
  {
   "cell_type": "code",
   "execution_count": 8,
   "metadata": {},
   "outputs": [
    {
     "name": "stdout",
     "output_type": "stream",
     "text": [
      "13408\n"
     ]
    }
   ],
   "source": [
    "print(nx.number_connected_components(G.to_undirected()))\n",
    "#C = nx.connected_components(G.to_undirected())\n",
    "#print([len(c) for c in C])"
   ]
  },
  {
   "cell_type": "markdown",
   "metadata": {},
   "source": [
    "## Action Log Stats"
   ]
  },
  {
   "cell_type": "code",
   "execution_count": null,
   "metadata": {},
   "outputs": [],
   "source": [
    "\"\"\"\n",
    "Compute \"Friendliness\" of events\n",
    "\"\"\"\n",
    "\n",
    "activities_between_friends = 0\n",
    "activities_between_strangers = 0\n",
    "\n",
    "for date, action in log.iterrows():\n",
    "    if (social.has_edge(action[\"user1\"], action[\"user2\"]) or social.has_edge(action[\"user2\"], action[\"user1\"])):\n",
    "        activities_between_friends += 1\n",
    "    else:\n",
    "        activities_between_strangers += 1\n",
    "        \n",
    "print(activities_between_friends)\n",
    "print(activities_between_strangers)\n"
   ]
  },
  {
   "cell_type": "code",
   "execution_count": 9,
   "metadata": {},
   "outputs": [
    {
     "name": "stdout",
     "output_type": "stream",
     "text": [
      "user 1 had influence 0 times, has 16280 followers, and follows 22 users\n",
      "user 2 had influence 3 times, has 4707 followers, and follows 77 users\n",
      "user 3 had influence 0 times, has 137 followers, and follows 25 users\n",
      "user 4 had influence 195 times, has 8643 followers, and follows 402 users\n",
      "user 5 had influence 29 times, has 2194 followers, and follows 58 users\n",
      "user 6 had influence 186 times, has 27088 followers, and follows 101 users\n",
      "user 7 had influence 39 times, has 2146 followers, and follows 99 users\n",
      "user 8 had influence 1280 times, has 32106 followers, and follows 54 users\n",
      "user 9 had influence 0 times, has 567 followers, and follows 29 users\n",
      "user 10 had influence 1 times, has 10204 followers, and follows 305 users\n"
     ]
    }
   ],
   "source": [
    "i = 0\n",
    "for u in social:\n",
    "    if i < 10:\n",
    "        print(\"user {} had influence {} times, has {} followers, and follows {} users\"\n",
    "              .format(u, pre.num_times_spread(log, u), pre.num_followers(social, u), pre.num_following(social, u)))\n",
    "    i += 1\n"
   ]
  },
  {
   "cell_type": "code",
   "execution_count": 13,
   "metadata": {},
   "outputs": [
    {
     "name": "stdout",
     "output_type": "stream",
     "text": [
      "<class 'networkx.classes.multidigraph.MultiDiGraph'>\n",
      "16.0\n",
      "32.5339380587\n",
      "4.0\n",
      "32.5339380587\n"
     ]
    }
   ],
   "source": [
    "social = social.to_directed()\n",
    "\n",
    "print(type(social))\n",
    "print(np.median([d for (_, d) in social.out_degree()]))\n",
    "print(np.mean([d for (_, d) in social.out_degree()]))\n",
    "\n",
    "print(np.median([d for (_, d) in social.in_degree()]))\n",
    "print(np.mean([d for (_, d) in social.in_degree()]))\n",
    "\n",
    "# Interesting! (32)"
   ]
  },
  {
   "cell_type": "markdown",
   "metadata": {},
   "source": [
    "## Write heuristic seed sets"
   ]
  },
  {
   "cell_type": "code",
   "execution_count": null,
   "metadata": {},
   "outputs": [],
   "source": [
    "\"\"\"Why we need to subgraph:\"\"\"\n",
    "\n",
    "soc_nodes = np.array(social.nodes)\n",
    "G_nodes = np.array(G.nodes)\n",
    "\n",
    "print(len(soc_nodes))\n",
    "print(len(G_nodes))"
   ]
  },
  {
   "cell_type": "code",
   "execution_count": null,
   "metadata": {},
   "outputs": [],
   "source": [
    "## Write top-k influencial users to file\n",
    "k = 50\n",
    "\n",
    "_infl = pre.get_top_k_infl(log, k)\n",
    "_in = pre.get_top_k_indeg(social.subgraph(G_nodes), k)\n",
    "_deg = pre.get_top_k_deg(social.subgraph(G_nodes), k)\n",
    "_rand = []\n",
    "\n",
    "for i in range(1, k+1):\n",
    "    _rand.append(np.random.choice(G_nodes))\n",
    "\n",
    "np.save(\"Data/seeds/infl/infl{}.npy\".format(k), _infl)\n",
    "np.save(\"Data/seeds/in_deg/in_deg{}.npy\".format(k), _in)\n",
    "np.save(\"Data/seeds/deg/deg{}.npy\".format(k), _deg)\n",
    "np.save(\"Data/seeds/rand/rand{}.npy\".format(k), _rand)\n",
    "    \n",
    "print(_infl[0:10])\n",
    "print([pre.num_times_spread(log, u) for u in _infl[0:10]])"
   ]
  },
  {
   "cell_type": "code",
   "execution_count": null,
   "metadata": {
    "collapsed": true
   },
   "outputs": [],
   "source": [
    "y=1\n",
    "#from spread import *\n",
    "\n",
    "#num_seeds = list(range(1, 50))\n",
    "#indeg_spreads = []\n",
    "#deg_spreads = []\n",
    "#infl_spreads = []\n",
    "#rand_spreads = []\n",
    "#\n",
    "#for i in num_seeds:\n",
    "#    print(\"Computing spreads for {} seeds\".format(i))\n",
    "#    indeg_seeds = np.load(\"Data/seeds/in_deg/in_deg{}.npy\".format(i))\n",
    "#    #deg_seeds = np.load(\"Data/seeds/deg/deg{}.npy\".format(i))\n",
    "#    #infl_seeds = np.load(\"Data/seeds/infl/infl{}.npy\".format(i))\n",
    "#    rand_seeds = np.load(\"Data/seeds/rand/rand{}.npy\".format(i))\n",
    "#    \n",
    "#    (indeg_n, _) = get_expected_spread(G, indeg_seeds, 100, mean=True)\n",
    "#    #(deg_n, _) = get_expected_spread(G, deg_seeds, 100, mean=True)\n",
    "#    (rand_n, _) = get_expected_spread(G, rand_seeds, 100, mean=True)\n",
    "#    #(infl_n, _) = get_expected_spread(G, infl_seeds, 100, mean=True)\n",
    "#    \n",
    "#    indeg_spreads.append(indeg_n)\n",
    "#    #deg_spreads.append(deg_n)\n",
    "#    rand_spreads.append(rand_n)\n",
    "#    #infl_spreads.append(infl_n)\n",
    "#\n",
    "#plt.plot(num_seeds, indeg_spreads, c='k')\n",
    "##plt.plot(num_seeds, deg_spreads, c='b')\n",
    "#plt.plot(num_seeds, rand_spreads, c='y')\n",
    "##plt.plot(num_seeds, infl_spreads, c='r')\n",
    "#\n",
    "#plt.show()\n",
    "#\n",
    "#plt.plot(num_seeds, indeg_spreads, c='k')\n",
    "#plt.plot(num_seeds, deg_spreads, c='b')\n",
    "#plt.plot(num_seed, infl_spreads, c='r')\n",
    "#plt.plot(num_seeds, rand_spreads, c='y')\n",
    "#\n",
    "#plt.show()\n",
    "#\n",
    "#np.save(\"Data/spreads/rand_spreads\", indeg_spreads)\n",
    "#np.save(\"Data/spreads/indeg_spreads\", indeg_spreads)\n",
    "#np.save(\"Data/spreads/deg_spreads\", deg_spreads)\n",
    "#np.save(\"Data/spreads/infl_spreads\", infl_spreads)\n"
   ]
  }
 ],
 "metadata": {
  "kernelspec": {
   "display_name": "Python 3",
   "language": "python",
   "name": "python3"
  },
  "language_info": {
   "codemirror_mode": {
    "name": "ipython",
    "version": 3
   },
   "file_extension": ".py",
   "mimetype": "text/x-python",
   "name": "python",
   "nbconvert_exporter": "python",
   "pygments_lexer": "ipython3",
   "version": "3.6.3"
  }
 },
 "nbformat": 4,
 "nbformat_minor": 2
}
