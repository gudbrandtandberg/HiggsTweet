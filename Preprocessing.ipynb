{
 "cells": [
  {
   "cell_type": "markdown",
   "metadata": {},
   "source": [
    "# Higgs Tweet - Preprocessing"
   ]
  },
  {
   "cell_type": "markdown",
   "metadata": {},
   "source": [
    "### Imports"
   ]
  },
  {
   "cell_type": "code",
   "execution_count": 1,
   "metadata": {
    "collapsed": true
   },
   "outputs": [],
   "source": [
    "import networkx as nx\n",
    "import matplotlib.pyplot as plt\n",
    "import numpy as np\n",
    "import os, sys, datetime\n",
    "import pandas as pd\n",
    "import nbimporter"
   ]
  },
  {
   "cell_type": "markdown",
   "metadata": {},
   "source": [
    "### Read Social Graph"
   ]
  },
  {
   "cell_type": "code",
   "execution_count": 2,
   "metadata": {},
   "outputs": [
    {
     "name": "stdout",
     "output_type": "stream",
     "text": [
      "Graph loaded:\n"
     ]
    }
   ],
   "source": [
    "\"\"\"Load complete unweighted social network graph\"\"\"\n",
    "\n",
    "def load_social_graph():\n",
    "    G = nx.read_edgelist(\"./Data/higgs-social_network.edgelist\",\n",
    "                     create_using=nx.MultiDiGraph(), nodetype=int, data=((\"kind\", str),))\n",
    "    # Add Friendship label to each edge in the loaded graph\n",
    "    nx.set_edge_attributes(G, \"FR\", \"kind\")\n",
    "    return G\n",
    "\n",
    "G = load_social_graph()\n",
    "print(\"Graph loaded:\")"
   ]
  },
  {
   "cell_type": "code",
   "execution_count": 4,
   "metadata": {
    "scrolled": true
   },
   "outputs": [
    {
     "name": "stdout",
     "output_type": "stream",
     "text": [
      "456626\n",
      "14855842\n",
      "2.0\n"
     ]
    }
   ],
   "source": [
    "\"\"\"Test Graph\"\"\"\n",
    "\n",
    "print(len(G))\n",
    "print(len(G.edges))\n",
    "print(nx.__version__)"
   ]
  },
  {
   "cell_type": "markdown",
   "metadata": {},
   "source": [
    "### Read Action Log"
   ]
  },
  {
   "cell_type": "code",
   "execution_count": 6,
   "metadata": {},
   "outputs": [
    {
     "name": "stdout",
     "output_type": "stream",
     "text": [
      "563069\n",
      "                      user1   user2 type\n",
      "time                                    \n",
      "2012-06-30 17:02:52  223789  213163   MT\n",
      "2012-06-30 17:02:52  223789  213163   RE\n",
      "2012-06-30 17:06:21  376989   50329   RT\n",
      "2012-06-30 17:06:23   26375  168366   MT\n",
      "2012-06-30 17:06:32  376989   13813   RT\n"
     ]
    }
   ],
   "source": [
    "\"\"\"Read action log into a pandas dataframe\"\"\"\n",
    "\n",
    "def dateparse (timestamp):    \n",
    "    return datetime.datetime.fromtimestamp(float(timestamp))\n",
    "\n",
    "def read_log():\n",
    "    log = pd.read_csv(\"./Data/higgs-activity_time.txt\", delimiter=\" \",\n",
    "                      index_col=\"time\", parse_dates=True, date_parser=dateparse)\n",
    "    return log\n",
    "\n",
    "log = read_log()\n",
    "print(log.shape[0])\n",
    "print(log.head())"
   ]
  },
  {
   "cell_type": "markdown",
   "metadata": {},
   "source": [
    "### Add action edges to the graph"
   ]
  },
  {
   "cell_type": "code",
   "execution_count": 7,
   "metadata": {
    "scrolled": true
   },
   "outputs": [
    {
     "name": "stdout",
     "output_type": "stream",
     "text": [
      "14855842\n",
      "<class 'pandas.core.frame.DataFrame'>\n",
      "15418911\n"
     ]
    }
   ],
   "source": [
    "\"\"\"Add action edges to the social graph\"\"\"\n",
    "\n",
    "def add_log_edges_to_social_graph(G, log):\n",
    "    \"\"\"\n",
    "    Input is a MultiDiGraph, log is a pandas dataframe,\n",
    "    Output is a MultiDiGraph with more edges\n",
    "    \"\"\"\n",
    "    for date, action in log.iterrows():\n",
    "        G.add_edge(action[\"user1\"], action[\"user2\"], kind=action[\"type\"])\n",
    "    return G\n",
    "\n",
    "\n",
    "print(len(G.edges))\n",
    "G = add_log_edges_to_social_graph(G, log)\n",
    "print(len(G.edges))"
   ]
  },
  {
   "cell_type": "markdown",
   "metadata": {},
   "source": [
    "### Print edge-types"
   ]
  },
  {
   "cell_type": "code",
   "execution_count": 8,
   "metadata": {},
   "outputs": [
    {
     "name": "stdout",
     "output_type": "stream",
     "text": [
      "The distribution over FR, RT, MT, RE is\n",
      "14855842 354930 171237 36902\n",
      "Total number of edges is\n",
      "15418911\n",
      "(=15418911)\n"
     ]
    }
   ],
   "source": [
    "def count_and_print_actions_in_graph(G):\n",
    "    follow = 0\n",
    "    retweet = 0\n",
    "    mention = 0\n",
    "    reply = 0\n",
    "\n",
    "    for u, v, attributes in G.edges(data=True): \n",
    "        if \"kind\" in attributes:\n",
    "            if attributes[\"kind\"] == \"RT\":\n",
    "                retweet += 1\n",
    "            elif attributes[\"kind\"] == \"MT\":\n",
    "                mention += 1\n",
    "            elif attributes[\"kind\"] == \"FR\":\n",
    "                follow += 1\n",
    "            elif attributes[\"kind\"] == \"RE\":\n",
    "                reply += 1\n",
    "            else:\n",
    "                print(\"Whaaat!\")\n",
    "        else:\n",
    "            #pass\n",
    "            sys.exit(\"Whoa, stop!\")\n",
    "    print(\"The distribution over FR, RT, MT, RE is\")\n",
    "    print(follow, retweet, mention, reply)\n",
    "    print(\"Total number of edges is\")\n",
    "    print(follow + retweet + mention + reply)\n",
    "    print(\"(should be ={})\".format(len(G.edges)))\n",
    "\n",
    "count_and_print_actions_in_graph(G)"
   ]
  },
  {
   "cell_type": "code",
   "execution_count": 9,
   "metadata": {},
   "outputs": [
    {
     "name": "stdout",
     "output_type": "stream",
     "text": [
      "456626\n",
      "456626\n",
      "466545\n"
     ]
    }
   ],
   "source": [
    "\"\"\"Create DiGraph (tar litt tid..)\"\"\"\n",
    "\n",
    "def create_digraph(G):\n",
    "    \"\"\"\n",
    "    G is a typed multidigraph. \n",
    "    Build a weighted digraph by combining parallel edges\n",
    "    \"\"\"\n",
    "    kind_weights = {\"RT\" : 0.01, \"RE\" : 0.01, \"RT\" : 0.01, \"MT\" : 0.01, \"FR\" : 0.00}\n",
    "\n",
    "    D = nx.DiGraph()\n",
    "    D.add_nodes_from(G)\n",
    "    nx.set_edge_attributes(D, 0.0, \"weight\")\n",
    "\n",
    "    for u in G:\n",
    "        for v in G.predecessors(u):\n",
    "            edges = dict(G[v][u])\n",
    "            weight = 0.0\n",
    "            for edge in edges.values():\n",
    "                kind = edge[\"kind\"]\n",
    "                weight += kind_weights[kind]\n",
    "            weight = np.min((weight, 1.0))\n",
    "            if weight != 0:\n",
    "                D.add_edge(u, v, weight=weight)\n",
    "    return D\n",
    "\n",
    "print(len(G.nodes))\n",
    "D = create_digraph(G)\n",
    "print(len(G.nodes))\n",
    "print(len(D.edges))\n",
    "\n",
    "weights = list(nx.get_edge_attributes(D, \"weight\").values())"
   ]
  },
  {
   "cell_type": "code",
   "execution_count": 31,
   "metadata": {},
   "outputs": [
    {
     "name": "stdout",
     "output_type": "stream",
     "text": [
      "466545\n"
     ]
    },
    {
     "data": {
      "image/png": "[encoded data removed]",
      "text/plain": [
       "<matplotlib.figure.Figure at 0x37201a668>"
      ]
     },
     "metadata": {},
     "output_type": "display_data"
    }
   ],
   "source": [
    "print(len(weights))\n",
    "plt.figure(1, figsize=(8,6))\n",
    "plt.hist(weights[:], bins=np.arange(0.0, 1.0, 0.1), color=\"gray\")\n",
    "plt.yscale('log', nonposy='clip')\n",
    "plt.xlabel(\"$p_{uv}$\")\n",
    "plt.ylabel(\"#weights\")\n",
    "plt.title(\"Distribution of edge-probabilities\")\n",
    "plt.savefig(\"Report/Figures/puv_dist.png\", bbox_inches=\"tight\")\n",
    "plt.show()"
   ]
  },
  {
   "cell_type": "code",
   "execution_count": 11,
   "metadata": {},
   "outputs": [
    {
     "name": "stdout",
     "output_type": "stream",
     "text": [
      "304691\n",
      "454878\n"
     ]
    }
   ],
   "source": [
    "nx.write_weighted_edgelist(D, \"Data/higggs-complete-graph.edgelist\")\n",
    "\n",
    "X = nx.read_weighted_edgelist(\"Data/higggs-complete-graph.edgelist\")\n",
    "print(len(X))\n",
    "print(len(X.edges))"
   ]
  },
  {
   "cell_type": "code",
   "execution_count": 72,
   "metadata": {
    "collapsed": true
   },
   "outputs": [],
   "source": [
    "\"\"\"Useful functions\"\"\"\n",
    "\n",
    "def sort_by_value(arr):\n",
    "    return arr[np.argsort(-arr[:, 1])]\n",
    "\n",
    "def get_top_k_indeg(G, k):\n",
    "    _in =  np.array(G.in_degree()).astype(np.float)\n",
    "    _in = sort_by_value(_in)\n",
    "    return _in[0:k, 0]\n",
    "\n",
    "def get_top_k_deg(G, k):\n",
    "    _deg =  np.array(G.degree()).astype(np.float)\n",
    "    _deg = sort_by_value(_deg)\n",
    "    return _deg[0:k, 0]\n",
    "\n",
    "def num_times_spread(log, u):\n",
    "    log_counts = log[\"user2\"].value_counts() #this is sorted\n",
    "    if u in log_counts.index:\n",
    "        return log_counts[u]\n",
    "    else:\n",
    "        return 0\n",
    "\n",
    "def get_top_k_infl(log, k):\n",
    "    log_counts = log[\"user2\"].value_counts() #this is sorted\n",
    "    users = np.array(log_counts.index, dtype=np.int)\n",
    "    counts = np.array(log_counts.data, dtype=np.int)    \n",
    "    \n",
    "    return users[0:k]\n",
    "\n",
    "def num_followers(G, u):\n",
    "    return len(list(G.predecessors(u)))\n",
    "\n",
    "def num_following(G, u):\n",
    "    return len(list(G.successors(u)))"
   ]
  }
 ],
 "metadata": {
  "kernelspec": {
   "display_name": "Python 3",
   "language": "python",
   "name": "python3"
  },
  "language_info": {
   "codemirror_mode": {
    "name": "ipython",
    "version": 3
   },
   "file_extension": ".py",
   "mimetype": "text/x-python",
   "name": "python",
   "nbconvert_exporter": "python",
   "pygments_lexer": "ipython3",
   "version": "3.6.3"
  }
 },
 "nbformat": 4,
 "nbformat_minor": 2
}
