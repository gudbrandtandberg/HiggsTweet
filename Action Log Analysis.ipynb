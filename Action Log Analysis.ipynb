{
 "cells": [
  {
   "cell_type": "markdown",
   "metadata": {},
   "source": [
    "# Action Log Analysis\n",
    "\n"
   ]
  },
  {
   "cell_type": "code",
   "execution_count": 1,
   "metadata": {
    "collapsed": true
   },
   "outputs": [],
   "source": [
    "import pandas as pd\n",
    "import matplotlib.pyplot as plt\n",
    "import datetime\n",
    "import numpy as np\n",
    "\n",
    "#retweet = \"RT\"\n",
    "#mention = \"MT\"\n",
    "#reply = \"RE\""
   ]
  },
  {
   "cell_type": "code",
   "execution_count": 2,
   "metadata": {
    "scrolled": true
   },
   "outputs": [
    {
     "name": "stdout",
     "output_type": "stream",
     "text": [
      "563069\n",
      "526167\n",
      "                      user1   user2 type\n",
      "time                                    \n",
      "2012-06-30 17:02:52  223789  213163   MT\n",
      "2012-06-30 17:06:21  376989   50329   RT\n",
      "2012-06-30 17:06:23   26375  168366   MT\n",
      "2012-06-30 17:06:32  376989   13813   RT\n",
      "2012-06-30 17:06:48  453850       8   RT\n"
     ]
    }
   ],
   "source": [
    "\"\"\"Read action log into a pandas dataframe\"\"\"\n",
    "\n",
    "def dateparse (timestamp):    \n",
    "    return datetime.datetime.fromtimestamp(float(timestamp))\n",
    "\n",
    "log = pd.read_csv(\"./Data/higgs-activity_time.txt\", delimiter=\" \",\n",
    "                  index_col=\"time\", parse_dates=True, date_parser=dateparse)\n",
    "\n",
    "print(log.shape[0])\n",
    "log = log.loc[log[\"type\"] != \"RE\"]\n",
    "print(log.shape[0])\n",
    "users = log[\"user2\"].drop_duplicates()\n",
    "\n",
    "#threshold = 5\n",
    "#value_counts = log[\"user2\"].value_counts()\n",
    "##print(value_counts.head())\n",
    "#to_remove = value_counts[value_counts <= threshold].index\n",
    "#print(\"will remove: {}\".format(len(to_remove)))\n",
    "#print(to_remove[0])\n",
    "#log = log.drop(to_remove)\n",
    "#\n",
    "#print(log.shape[0])\n",
    "#        \n",
    "print(log.head())\n"
   ]
  },
  {
   "cell_type": "code",
   "execution_count": 3,
   "metadata": {},
   "outputs": [
    {
     "name": "stdout",
     "output_type": "stream",
     "text": [
      "Split 0 has 1617 actions\n",
      "2012-06-30 17:02:52 2012-07-01 10:38:11\n",
      "Split 1 has 23132 actions\n",
      "2012-07-01 10:38:48 2012-07-03 00:04:41\n",
      "Split 2 has 370195 actions\n",
      "2012-07-03 00:04:50 2012-07-04 19:16:45\n",
      "Split 3 has 131223 actions\n",
      "2012-07-04 19:16:49 2012-07-07 16:59:53\n",
      "                      user1  user2 type\n",
      "time                                   \n",
      "2012-07-07 16:58:50   97296  15483   MT\n",
      "2012-07-07 16:59:12   19979  49694   MT\n",
      "2012-07-07 16:59:12   19979  80429   MT\n",
      "2012-07-07 16:59:34  178085   1062   RT\n",
      "2012-07-07 16:59:53   23996    253   RT\n"
     ]
    }
   ],
   "source": [
    "\"\"\"Split a dataset into n unequal time intervals\"\"\"\n",
    "\n",
    "def split_dataset(df, n, tmin, timedeltas):\n",
    "    \"\"\"df must have date index, and timedeltas must stay in range\"\"\"\n",
    "    \n",
    "    splits = []\n",
    "    \n",
    "    _min = tmin\n",
    "    _max = tmin + timedeltas[0]\n",
    "    \n",
    "    for i in range(1,n):\n",
    "        split = df.truncate(before=_min, after=_max)\n",
    "        splits.append(split)\n",
    "        _min = _max\n",
    "        _max = _max + timedeltas[i]\n",
    "    \n",
    "    split = df.truncate(before=_min, after=_max)\n",
    "    splits.append(split)\n",
    "        \n",
    "    return splits\n",
    "\n",
    "# Split dataset into periods I, II, III, IV \n",
    "num_periods = 4\n",
    "tmin = log.index.min()\n",
    "tmax = log.index.max()\n",
    "timedeltas = [datetime.timedelta(days=0.733),\n",
    "                datetime.timedelta(days=1.56),\n",
    "                datetime.timedelta(days=1.8),\n",
    "                datetime.timedelta(days=3.733)]\n",
    "splits = split_dataset(log, num_periods, tmin, timedeltas)\n",
    "\n",
    "for i in range(num_periods):\n",
    "    print(\"Split {} has {} actions\".format(i, splits[i].shape[0]))\n",
    "    print(splits[i].index.min(), splits[i].index.max())\n",
    "\n",
    "print(log.tail())"
   ]
  },
  {
   "cell_type": "code",
   "execution_count": 4,
   "metadata": {
    "scrolled": true
   },
   "outputs": [
    {
     "data": {
      "image/png": "[encoded data removed]",
      "text/plain": [
       "<matplotlib.figure.Figure at 0x10f6250f0>"
      ]
     },
     "metadata": {},
     "output_type": "display_data"
    }
   ],
   "source": [
    "\"\"\"Make plot of tweets/hour\"\"\"\n",
    "\n",
    "import matplotlib.dates as mdates\n",
    "\n",
    "tmin = log.index.min()\n",
    "tmax = log.index.max()\n",
    "\n",
    "N = 167.9191\n",
    "dt = (tmax - tmin) / N #makes the deltas equal an hour\n",
    "\n",
    "T = []\n",
    "t = tmin\n",
    "tweets_per_hour = []\n",
    "while t < tmax:\n",
    "    tweets_per_hour.append(log[t:t+dt].shape[0])\n",
    "    T.append(t)\n",
    "    t += dt\n",
    "T = mdates.date2num(T); T = T - T[0]\n",
    "\n",
    "s1 = 0.733\n",
    "s2 = 1.56 + s1\n",
    "s3 = 1.8 + s2\n",
    "s4 = 3.733 + s3\n",
    "\n",
    "(fig, ax) = plt.subplots()\n",
    "ax.semilogy(T, tweets_per_hour, color=\"k\")\n",
    "ax.axvspan(0, s1, alpha=0.5, color='grey')\n",
    "ax.axvspan(s2, s3, alpha=0.5, color='grey')\n",
    "plt.title(\"Tweets per hour during the event\")\n",
    "plt.xlabel(\"Days since July 1, 2012\")\n",
    "plt.xticks(np.arange(8))\n",
    "plt.show()\n",
    "\n"
   ]
  },
  {
   "cell_type": "markdown",
   "metadata": {},
   "source": [
    "## Table 1: activities / period\n",
    "| Period | #activities |\n",
    "| ------------- |:-------------:|\n",
    "| I      | 1617        |\n",
    "| II     | 23132       |\n",
    "| III    | 370195      |\n",
    "| IV     | 131223      |\n"
   ]
  },
  {
   "cell_type": "code",
   "execution_count": 5,
   "metadata": {},
   "outputs": [
    {
     "name": "stdout",
     "output_type": "stream",
     "text": [
      "0\n",
      "1\n",
      "2\n",
      "3\n"
     ]
    }
   ],
   "source": [
    "# Count occurences of users as (mentioned, retweeted, replied)\n",
    "\n",
    "#print(log.shape[0])\n",
    "\n",
    "users = log[\"user2\"].drop_duplicates()\n",
    "#print(users.shape[0])\n",
    "\n",
    "counts = np.zeros((users.shape[0], num_periods), dtype=np.uint32)\n",
    "user_index = np.zeros(users.shape[0], dtype=np.uint32)\n",
    "\n",
    "first = True\n",
    "for i in range(num_periods):\n",
    "    print(i)\n",
    "    split = splits[i]\n",
    "    j = 0\n",
    "    for user in users:\n",
    "        if first:\n",
    "            user_index[j] = user\n",
    "        counts[j][i] = (split[split[\"user2\"] == user]).shape[0]\n",
    "        j += 1\n",
    "    first = not first\n",
    "        "
   ]
  },
  {
   "cell_type": "code",
   "execution_count": 6,
   "metadata": {},
   "outputs": [
    {
     "name": "stdout",
     "output_type": "stream",
     "text": [
      "[[   2    0    2    0]\n",
      " [   4    5   26   15]\n",
      " [   1    0    0    0]\n",
      " [   5    5 1827   63]\n",
      " [  20  306  920   17]\n",
      " [   1    1    1    0]\n",
      " [   1    0    0    0]\n",
      " [   1    0    5    7]\n",
      " [   6   19    9    5]\n",
      " [   2   11  353   31]]\n",
      "[213163  50329 168366  13813      8 364376 364375  60337  84647  42182]\n"
     ]
    }
   ],
   "source": [
    "print(counts[0:10, :])\n",
    "print(user_index[0:10])"
   ]
  },
  {
   "cell_type": "code",
   "execution_count": 7,
   "metadata": {},
   "outputs": [
    {
     "name": "stdout",
     "output_type": "stream",
     "text": [
      "fitted\n"
     ]
    }
   ],
   "source": [
    "from sklearn import metrics\n",
    "from sklearn.cluster import KMeans\n",
    "from sklearn.datasets import load_digits\n",
    "from sklearn.decomposition import PCA\n",
    "from sklearn.preprocessing import scale, StandardScaler\n",
    "\n",
    "data = counts\n",
    "#scaler = StandardScaler().fit(data)\n",
    "#centered = scaler.transform(data)\n",
    "\n",
    "num_clusters = 4\n",
    "\n",
    "pca = PCA(n_components=2).fit(data)\n",
    "reduced_data = pca.transform(data)\n",
    "kmeans = KMeans(init='k-means++', n_clusters=num_clusters, n_init=10)\n",
    "kmeans.fit(reduced_data)\n",
    "print(\"fitted\")\n"
   ]
  },
  {
   "cell_type": "code",
   "execution_count": 8,
   "metadata": {},
   "outputs": [
    {
     "name": "stdout",
     "output_type": "stream",
     "text": [
      "30.9018181845\n",
      "2.14708924044\n"
     ]
    },
    {
     "data": {
      "image/png": "[encoded data removed]",
      "text/plain": [
       "<matplotlib.figure.Figure at 0x11bbf77f0>"
      ]
     },
     "metadata": {},
     "output_type": "display_data"
    }
   ],
   "source": [
    "# Step size of the mesh. Decrease to increase the quality of the VQ.\n",
    "h = 1000     # point in the mesh [x_min, x_max]x[y_min, y_max].\n",
    "\n",
    "# Plot the decision boundary. For that, we will assign a color to each\n",
    "x_min, x_max = reduced_data[:, 0].min() - 1, reduced_data[:, 0].max() + 1\n",
    "y_min, y_max = reduced_data[:, 1].min() - 1, reduced_data[:, 1].max() + 1\n",
    "\n",
    "print((x_max - x_min) / h)\n",
    "print((y_max - y_min) / h)\n",
    "\n",
    "xx, yy = np.meshgrid(np.linspace(x_min, x_max, h), np.linspace(y_min, y_max, h))\n",
    "\n",
    "# Obtain labels for each point in mesh. Use last trained model.\n",
    "Z = kmeans.predict(np.c_[xx.ravel(), yy.ravel()])\n",
    "\n",
    "# Put the result into a color plot\n",
    "Z = Z.reshape(xx.shape)\n",
    "plt.figure(1)\n",
    "plt.clf()\n",
    "plt.imshow(Z, interpolation='nearest',\n",
    "           extent=(xx.min(), xx.max(), yy.min(), yy.max()),\n",
    "           cmap=plt.cm.Paired,\n",
    "           aspect='auto', origin='lower')\n",
    "\n",
    "plt.plot(reduced_data[:, 0], reduced_data[:, 1], 'k.', markersize=2)\n",
    "# Plot the centroids as a white X\n",
    "centroids = kmeans.cluster_centers_\n",
    "\n",
    "plt.scatter(centroids[:, 0], centroids[:, 1],\n",
    "            marker='x', s=169, linewidths=3,\n",
    "            color='w', zorder=10)\n",
    "plt.title('K-means clustering of users  (PCA-reduced data)\\n'\n",
    "          'Centroids are marked with white cross')\n",
    "plt.xlim(x_min, x_max)\n",
    "plt.ylim(y_min, y_max)\n",
    "plt.xticks(())\n",
    "plt.yticks(())\n",
    "\n",
    "plt.show()"
   ]
  },
  {
   "cell_type": "code",
   "execution_count": 9,
   "metadata": {},
   "outputs": [
    {
     "name": "stdout",
     "output_type": "stream",
     "text": [
      "[[  1.47716060e-02   2.99628027e-01   4.00219204e+00   1.89286661e+00]\n",
      " [  1.75490229e+02   1.17832405e+03   3.07676606e+04   2.61449303e+03]\n",
      " [  4.30691063e+01   2.92327432e+02   7.57561259e+03   7.23247011e+02]\n",
      " [  6.57484740e+00   4.81011972e+01   1.18364894e+03   2.00629433e+02]]\n",
      "59908 users in cluster 0\n",
      "1 users in cluster 1\n",
      "88\n",
      "3 users in cluster 2\n",
      "65 users in cluster 3\n"
     ]
    },
    {
     "data": {
      "image/png": "[encoded data removed]",
      "text/plain": [
       "<matplotlib.figure.Figure at 0x11bbf7518>"
      ]
     },
     "metadata": {},
     "output_type": "display_data"
    }
   ],
   "source": [
    "\"\"\"Describe clustering results\"\"\"\n",
    "\n",
    "centroids = kmeans.cluster_centers_\n",
    "i_centroids = pca.inverse_transform(centroids)\n",
    "print(i_centroids)\n",
    "#i_centroids = scaler.inverse_transform(i_centroids)\n",
    "#print(i_centroids)\n",
    "\n",
    "# Print centroids\n",
    "for i in range(num_clusters):\n",
    "    (c,) = np.where(kmeans.labels_ == i)\n",
    "    num_in_cluster = len(c)\n",
    "    print(\"{} users in cluster {}\".format(num_in_cluster, i))\n",
    "    if i == 1:\n",
    "        print(user_index[c[0]])\n",
    "\n",
    "# Plot centroids along time-axis\n",
    "plt.figure(2)\n",
    "handles = []\n",
    "P = range(num_periods)\n",
    "for i in range(num_clusters):\n",
    "    h, = plt.semilogy(P, i_centroids[i,:], label=\"Cluster {}\".format(i))\n",
    "    handles.append(h)\n",
    "\n",
    "plt.legend(handles=handles)\n",
    "plt.xticks(P, [\"I\", \"II\", \"III\", \"IV\"])\n",
    "plt.show()"
   ]
  },
  {
   "cell_type": "code",
   "execution_count": 10,
   "metadata": {},
   "outputs": [
    {
     "name": "stdout",
     "output_type": "stream",
     "text": [
      "[0, 34664.0, 8695.0, 1449.0461538461539]\n"
     ]
    }
   ],
   "source": [
    "\"\"\"Find a unique (cluster 1) user\"\"\"\n",
    "\n",
    "averages = [0]*num_clusters\n",
    "\n",
    "for i in range(1,num_clusters):\n",
    "\n",
    "    users_in_cluster = user_index[np.where(kmeans.labels_ == i)]\n",
    "    avg = 0.0\n",
    "    for user in users_in_cluster:\n",
    "        avg += (log[log[\"user2\"] == user]).shape[0]\n",
    "    avg /= len(users_in_cluster)\n",
    "    averages[i] = avg\n",
    "    \n",
    "print(averages)"
   ]
  }
 ],
 "metadata": {
  "kernelspec": {
   "display_name": "Python 3",
   "language": "python",
   "name": "python3"
  },
  "language_info": {
   "codemirror_mode": {
    "name": "ipython",
    "version": 3
   },
   "file_extension": ".py",
   "mimetype": "text/x-python",
   "name": "python",
   "nbconvert_exporter": "python",
   "pygments_lexer": "ipython3",
   "version": "3.6.3"
  }
 },
 "nbformat": 4,
 "nbformat_minor": 2
}
