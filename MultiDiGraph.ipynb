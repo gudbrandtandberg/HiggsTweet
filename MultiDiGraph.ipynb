{
 "cells": [
  {
   "cell_type": "markdown",
   "metadata": {},
   "source": [
    "## MultiDiGraph\n",
    "\n",
    "Experiments in \"collapsing\" a multidigraph into a simple probability-weighted digraph.\n",
    "\n",
    "Desired features:\n",
    "+ \"Reasonable\" distribution of final weights\n",
    "+ \"Meaningful\" weights, as a function of incoming edges and total stats\n",
    "\n",
    "Before:             |  After:\n",
    ":-------------------------:|:-------------------------:\n",
    "![Image](Figures/MultiDiGraph.png)  |  ![Image](Figures/MultiDiGraphII.png)"
   ]
  },
  {
   "cell_type": "code",
   "execution_count": 50,
   "metadata": {},
   "outputs": [
    {
     "name": "stdout",
     "output_type": "stream",
     "text": [
      "=====MULTIDIGRAPH:=====\n",
      "Peter Mary {'kind': 'FR'}\n",
      "Peter Mary {'kind': 'MT'}\n",
      "Peter Paul {'kind': 'RT'}\n",
      "Peter Paul {'kind': 'RT'}\n",
      "Peter Paul {'kind': 'MT'}\n",
      "Mary Peter {'kind': 'RE'}\n",
      "Mary Paul {'kind': 'FR'}\n",
      "Mary Paul {'kind': 'RT'}\n",
      "=====CONVERT TO DIGRAPH:=====\n",
      "Peter Mary {'weight': 0.01}\n",
      "Paul Peter {'weight': 0.30000000000000004}\n",
      "Paul Mary {'weight': 0.2}\n",
      "Mary Peter {'weight': 0.2}\n"
     ]
    }
   ],
   "source": [
    "#=====MULTIDIGRAPH:=====\n",
    "#Peter Mary {'kind': 'FR'}\n",
    "#Peter Mary {'kind': 'MT'}\n",
    "#Peter Paul {'kind': 'RT'}\n",
    "#Peter Paul {'kind': 'RT'}\n",
    "#Peter Paul {'kind': 'MT'}\n",
    "#Mary Peter {'kind': 'RE'}\n",
    "#Mary Paul {'kind': 'FR'}\n",
    "#Mary Paul {'kind': 'RT'}\n",
    "#=====CONVERT TO DIGRAPH:=====\n",
    "#Peter Mary {'weight': 0.01}\n",
    "#Paul Peter {'weight': 0.3}\n",
    "#Paul Mary {'weight': 0.2}\n",
    "#Mary Peter {'weight': 0.2}\n",
    "\n",
    "import networkx as nx\n",
    "\n",
    "weights = {\"RT\" : 0.1, \"RE\" : 0.01, \"RT\" : 0.1, \"MT\" : 0.1, \"FR\" : 0.1}\n",
    "\n",
    "def print_multidigraph(G):\n",
    "    for u,v,data in G.edges(data=True):\n",
    "        print(u, v, data)\n",
    "    \n",
    "def create_multidigraph():\n",
    "    G = nx.MultiDiGraph()\n",
    "    G.add_nodes_from([\"Peter\", \"Paul\", \"Mary\"])\n",
    "    G.add_edge(\"Peter\", \"Mary\", kind=\"FR\")\n",
    "    G.add_edge(\"Peter\", \"Mary\", kind=\"MT\")\n",
    "    G.add_edge(\"Mary\", \"Peter\", kind=\"RE\")\n",
    "    G.add_edge(\"Mary\", \"Paul\", kind=\"FR\")\n",
    "    G.add_edge(\"Mary\", \"Paul\", kind=\"RT\")\n",
    "    G.add_edge(\"Peter\", \"Paul\", kind=\"RT\")\n",
    "    G.add_edge(\"Peter\", \"Paul\", kind=\"RT\")\n",
    "    G.add_edge(\"Peter\", \"Paul\", kind=\"MT\")\n",
    "    return G\n",
    "    \n",
    "def to_digraph(M):\n",
    "    \"\"\"Combines parallel edges in M to weighted edges in G\"\"\"\n",
    "    \n",
    "    # First, cast to DiGraph. This arbitrarily chooses attributes of paralell edges\n",
    "    G = nx.DiGraph(M)\n",
    "    \n",
    "    # Remove all attributes from edges\n",
    "    for u,v,data in M.edges(data=True):\n",
    "        for k in data:\n",
    "            if k in G[u][v]: #why?\n",
    "                del G[u][v][k]\n",
    "            \n",
    "    nx.set_edge_attributes(G, 0.0, \"weight\")\n",
    "    \n",
    "    # Now start building the weight = p_{uv}'s of G \n",
    "    for u,v,data in M.edges(data=True):\n",
    "        G[u][v][\"weight\"] += weights[data[\"kind\"]]\n",
    "    \n",
    "    return G.reverse(copy=False)\n",
    "\n",
    "G = create_multidigraph()\n",
    "\n",
    "print(\"=====MULTIDIGRAPH:=====\")\n",
    "print_multidigraph(G)\n",
    "G = to_digraph(G)\n",
    "\n",
    "print(\"=====CONVERT TO DIGRAPH:=====\")\n",
    "print_multidigraph(G)\n"
   ]
  }
 ],
 "metadata": {
  "kernelspec": {
   "display_name": "Python 3",
   "language": "python",
   "name": "python3"
  },
  "language_info": {
   "codemirror_mode": {
    "name": "ipython",
    "version": 3
   },
   "file_extension": ".py",
   "mimetype": "text/x-python",
   "name": "python",
   "nbconvert_exporter": "python",
   "pygments_lexer": "ipython3",
   "version": "3.6.3"
  }
 },
 "nbformat": 4,
 "nbformat_minor": 2
}
