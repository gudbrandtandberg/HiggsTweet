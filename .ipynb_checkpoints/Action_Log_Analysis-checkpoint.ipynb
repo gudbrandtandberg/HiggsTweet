{
 "cells": [
  {
   "cell_type": "markdown",
   "metadata": {},
   "source": [
    "# Action Log Analysis\n",
    "\n"
   ]
  },
  {
   "cell_type": "code",
   "execution_count": 1,
   "metadata": {
    "collapsed": true
   },
   "outputs": [],
   "source": [
    "import pandas as pd\n",
    "import matplotlib.pyplot as plt\n",
    "import datetime\n",
    "import numpy as np"
   ]
  },
  {
   "cell_type": "code",
   "execution_count": 2,
   "metadata": {
    "scrolled": true
   },
   "outputs": [
    {
     "name": "stdout",
     "output_type": "stream",
     "text": [
      "563069\n",
      "                      user1   user2 type\n",
      "time                                    \n",
      "2012-06-30 17:02:52  223789  213163   MT\n",
      "2012-06-30 17:02:52  223789  213163   RE\n",
      "2012-06-30 17:06:21  376989   50329   RT\n",
      "2012-06-30 17:06:23   26375  168366   MT\n",
      "2012-06-30 17:06:32  376989   13813   RT\n"
     ]
    }
   ],
   "source": [
    "\"\"\"Read action log into a pandas dataframe\"\"\"\n",
    "\n",
    "def dateparse (timestamp):    \n",
    "    return datetime.datetime.fromtimestamp(float(timestamp))\n",
    "\n",
    "log = pd.read_csv(\"./Data/higgs-activity_time.txt\", delimiter=\" \",\n",
    "                  index_col=\"time\", parse_dates=True, date_parser=dateparse)\n",
    "\n",
    "print(log.shape[0])\n",
    "\n",
    "users = log[\"user2\"].drop_duplicates()\n",
    "\n",
    "#threshold = 5\n",
    "#value_counts = log[\"user2\"].value_counts()\n",
    "##print(value_counts.head())\n",
    "#to_remove = value_counts[value_counts <= threshold].index\n",
    "#print(\"will remove: {}\".format(len(to_remove)))\n",
    "#print(to_remove[0])\n",
    "#log = log.drop(to_remove)\n",
    "#\n",
    "#print(log.shape[0])\n",
    "#        \n",
    "print(log.head())\n"
   ]
  },
  {
   "cell_type": "code",
   "execution_count": 3,
   "metadata": {},
   "outputs": [
    {
     "name": "stdout",
     "output_type": "stream",
     "text": [
      "Split 0 has 1570 actions\n",
      "2012-06-30 17:02:52 2012-07-01 09:50:49\n",
      "Split 1 has 8373 actions\n",
      "2012-07-01 09:51:36 2012-07-02 07:26:52\n",
      "Split 2 has 54899 actions\n",
      "2012-07-02 07:26:52 2012-07-03 21:50:52\n",
      "Split 3 has 497713 actions\n",
      "2012-07-03 21:50:52 2012-07-07 14:38:32\n",
      "                      user1  user2 type\n",
      "time                                   \n",
      "2012-07-07 16:58:50   97296  15483   RE\n",
      "2012-07-07 16:59:12   19979  49694   MT\n",
      "2012-07-07 16:59:12   19979  80429   MT\n",
      "2012-07-07 16:59:34  178085   1062   RT\n",
      "2012-07-07 16:59:53   23996    253   RT\n"
     ]
    }
   ],
   "source": [
    "\"\"\"Split a dataset into n unequal time intervals\"\"\"\n",
    "\n",
    "def split_dataset(df, n, tmin, timedeltas):\n",
    "    \"\"\"df must have date index, and timedeltas must stay in range\"\"\"\n",
    "    \n",
    "    splits = []\n",
    "    \n",
    "    _min = tmin\n",
    "    _max = tmin + timedeltas[0]\n",
    "    \n",
    "    for i in range(1,n):\n",
    "        split = df.truncate(before=_min, after=_max)\n",
    "        splits.append(split)\n",
    "        _min = _max\n",
    "        _max = _max + timedeltas[i]\n",
    "    \n",
    "    split = df.truncate(before=_min, after=_max)\n",
    "    splits.append(split)\n",
    "        \n",
    "    return splits\n",
    "\n",
    "# Split dataset into periods I, II, III, IV \n",
    "num_periods = 4\n",
    "tmin = log.index.min()\n",
    "tmax = log.index.max()\n",
    "\n",
    "t1 = 0.7\n",
    "t2 = 0.9\n",
    "t3 = 1.6\n",
    "t4 = 3.7\n",
    "\n",
    "s1 = t1\n",
    "s2 = s1 + t2\n",
    "s3 = s2 + t3\n",
    "s4 = s3 + t4\n",
    "\n",
    "timedeltas = [datetime.timedelta(days=t1),\n",
    "                datetime.timedelta(days=t2),\n",
    "                datetime.timedelta(days=t3),\n",
    "                datetime.timedelta(days=t4)]\n",
    "splits = split_dataset(log, num_periods, tmin, timedeltas)\n",
    "\n",
    "for i in range(num_periods):\n",
    "    print(\"Split {} has {} actions\".format(i, splits[i].shape[0]))\n",
    "    print(splits[i].index.min(), splits[i].index.max())\n",
    "\n",
    "print(log.tail())"
   ]
  },
  {
   "cell_type": "code",
   "execution_count": 4,
   "metadata": {
    "scrolled": true
   },
   "outputs": [
    {
     "data": {
      "image/png": "[encoded data removed]",
      "text/plain": [
       "<matplotlib.figure.Figure at 0x10c574da0>"
      ]
     },
     "metadata": {},
     "output_type": "display_data"
    }
   ],
   "source": [
    "\"\"\"Make plot of tweets/hour\"\"\"\n",
    "\n",
    "import matplotlib.dates as mdates\n",
    "\n",
    "tmin = log.index.min()\n",
    "tmax = log.index.max()\n",
    "\n",
    "dt = datetime.timedelta(hours=1.0)\n",
    "T = []\n",
    "t = tmin\n",
    "tweets_per_hour = []\n",
    "while t < tmax:\n",
    "    tweets_per_hour.append(log[t:t+dt].shape[0])\n",
    "    T.append(t)\n",
    "    t += dt\n",
    "T = mdates.date2num(T); T = T - T[0]\n",
    "\n",
    "(fig, ax) = plt.subplots()\n",
    "ax.semilogy(T, tweets_per_hour, color=\"k\")\n",
    "ax.axvspan(0, s1, alpha=0.5, color='grey')\n",
    "ax.axvspan(s2, s3, alpha=0.5, color='grey')\n",
    "plt.title(\"Tweets per hour during the event\")\n",
    "plt.xlabel(\"Days since July 1, 2012\")\n",
    "plt.xticks(np.arange(8))\n",
    "plt.show()\n",
    "\n"
   ]
  },
  {
   "cell_type": "markdown",
   "metadata": {},
   "source": [
    "## Table 1: activities / period\n",
    "| Period | #activities |\n",
    "| ------------- |:-------------:|\n",
    "| I      | 1617        |\n",
    "| II     | 23132       |\n",
    "| III    | 370195      |\n",
    "| IV     | 131223      |\n"
   ]
  },
  {
   "cell_type": "code",
   "execution_count": 5,
   "metadata": {},
   "outputs": [
    {
     "name": "stdout",
     "output_type": "stream",
     "text": [
      "0\n",
      "1\n"
     ]
    },
    {
     "ename": "KeyboardInterrupt",
     "evalue": "",
     "output_type": "error",
     "traceback": [
      "\u001b[0;31m---------------------------------------------------------------------------\u001b[0m",
      "\u001b[0;31mKeyboardInterrupt\u001b[0m                         Traceback (most recent call last)",
      "\u001b[0;32m<ipython-input-5-c9cd5aae9c65>\u001b[0m in \u001b[0;36m<module>\u001b[0;34m()\u001b[0m\n\u001b[1;32m     17\u001b[0m         \u001b[0;32mif\u001b[0m \u001b[0mfirst\u001b[0m\u001b[0;34m:\u001b[0m\u001b[0;34m\u001b[0m\u001b[0m\n\u001b[1;32m     18\u001b[0m             \u001b[0muser_index\u001b[0m\u001b[0;34m[\u001b[0m\u001b[0mj\u001b[0m\u001b[0;34m]\u001b[0m \u001b[0;34m=\u001b[0m \u001b[0muser\u001b[0m\u001b[0;34m\u001b[0m\u001b[0m\n\u001b[0;32m---> 19\u001b[0;31m         \u001b[0mcounts\u001b[0m\u001b[0;34m[\u001b[0m\u001b[0mj\u001b[0m\u001b[0;34m]\u001b[0m\u001b[0;34m[\u001b[0m\u001b[0mi\u001b[0m\u001b[0;34m]\u001b[0m \u001b[0;34m=\u001b[0m \u001b[0;34m(\u001b[0m\u001b[0msplit\u001b[0m\u001b[0;34m[\u001b[0m\u001b[0msplit\u001b[0m\u001b[0;34m[\u001b[0m\u001b[0;34m\"user2\"\u001b[0m\u001b[0;34m]\u001b[0m \u001b[0;34m==\u001b[0m \u001b[0muser\u001b[0m\u001b[0;34m]\u001b[0m\u001b[0;34m)\u001b[0m\u001b[0;34m.\u001b[0m\u001b[0mshape\u001b[0m\u001b[0;34m[\u001b[0m\u001b[0;36m0\u001b[0m\u001b[0;34m]\u001b[0m\u001b[0;34m\u001b[0m\u001b[0m\n\u001b[0m\u001b[1;32m     20\u001b[0m         \u001b[0mj\u001b[0m \u001b[0;34m+=\u001b[0m \u001b[0;36m1\u001b[0m\u001b[0;34m\u001b[0m\u001b[0m\n\u001b[1;32m     21\u001b[0m     \u001b[0mfirst\u001b[0m \u001b[0;34m=\u001b[0m \u001b[0;32mnot\u001b[0m \u001b[0mfirst\u001b[0m\u001b[0;34m\u001b[0m\u001b[0m\n",
      "\u001b[0;32m/anaconda/envs/networkx/lib/python3.6/site-packages/pandas/core/frame.py\u001b[0m in \u001b[0;36m__getitem__\u001b[0;34m(self, key)\u001b[0m\n\u001b[1;32m   2131\u001b[0m         \u001b[0;32mif\u001b[0m \u001b[0misinstance\u001b[0m\u001b[0;34m(\u001b[0m\u001b[0mkey\u001b[0m\u001b[0;34m,\u001b[0m \u001b[0;34m(\u001b[0m\u001b[0mSeries\u001b[0m\u001b[0;34m,\u001b[0m \u001b[0mnp\u001b[0m\u001b[0;34m.\u001b[0m\u001b[0mndarray\u001b[0m\u001b[0;34m,\u001b[0m \u001b[0mIndex\u001b[0m\u001b[0;34m,\u001b[0m \u001b[0mlist\u001b[0m\u001b[0;34m)\u001b[0m\u001b[0;34m)\u001b[0m\u001b[0;34m:\u001b[0m\u001b[0;34m\u001b[0m\u001b[0m\n\u001b[1;32m   2132\u001b[0m             \u001b[0;31m# either boolean or fancy integer index\u001b[0m\u001b[0;34m\u001b[0m\u001b[0;34m\u001b[0m\u001b[0m\n\u001b[0;32m-> 2133\u001b[0;31m             \u001b[0;32mreturn\u001b[0m \u001b[0mself\u001b[0m\u001b[0;34m.\u001b[0m\u001b[0m_getitem_array\u001b[0m\u001b[0;34m(\u001b[0m\u001b[0mkey\u001b[0m\u001b[0;34m)\u001b[0m\u001b[0;34m\u001b[0m\u001b[0m\n\u001b[0m\u001b[1;32m   2134\u001b[0m         \u001b[0;32melif\u001b[0m \u001b[0misinstance\u001b[0m\u001b[0;34m(\u001b[0m\u001b[0mkey\u001b[0m\u001b[0;34m,\u001b[0m \u001b[0mDataFrame\u001b[0m\u001b[0;34m)\u001b[0m\u001b[0;34m:\u001b[0m\u001b[0;34m\u001b[0m\u001b[0m\n\u001b[1;32m   2135\u001b[0m             \u001b[0;32mreturn\u001b[0m \u001b[0mself\u001b[0m\u001b[0;34m.\u001b[0m\u001b[0m_getitem_frame\u001b[0m\u001b[0;34m(\u001b[0m\u001b[0mkey\u001b[0m\u001b[0;34m)\u001b[0m\u001b[0;34m\u001b[0m\u001b[0m\n",
      "\u001b[0;32m/anaconda/envs/networkx/lib/python3.6/site-packages/pandas/core/frame.py\u001b[0m in \u001b[0;36m_getitem_array\u001b[0;34m(self, key)\u001b[0m\n\u001b[1;32m   2173\u001b[0m             \u001b[0mkey\u001b[0m \u001b[0;34m=\u001b[0m \u001b[0mcheck_bool_indexer\u001b[0m\u001b[0;34m(\u001b[0m\u001b[0mself\u001b[0m\u001b[0;34m.\u001b[0m\u001b[0mindex\u001b[0m\u001b[0;34m,\u001b[0m \u001b[0mkey\u001b[0m\u001b[0;34m)\u001b[0m\u001b[0;34m\u001b[0m\u001b[0m\n\u001b[1;32m   2174\u001b[0m             \u001b[0mindexer\u001b[0m \u001b[0;34m=\u001b[0m \u001b[0mkey\u001b[0m\u001b[0;34m.\u001b[0m\u001b[0mnonzero\u001b[0m\u001b[0;34m(\u001b[0m\u001b[0;34m)\u001b[0m\u001b[0;34m[\u001b[0m\u001b[0;36m0\u001b[0m\u001b[0;34m]\u001b[0m\u001b[0;34m\u001b[0m\u001b[0m\n\u001b[0;32m-> 2175\u001b[0;31m             \u001b[0;32mreturn\u001b[0m \u001b[0mself\u001b[0m\u001b[0;34m.\u001b[0m\u001b[0m_take\u001b[0m\u001b[0;34m(\u001b[0m\u001b[0mindexer\u001b[0m\u001b[0;34m,\u001b[0m \u001b[0maxis\u001b[0m\u001b[0;34m=\u001b[0m\u001b[0;36m0\u001b[0m\u001b[0;34m,\u001b[0m \u001b[0mconvert\u001b[0m\u001b[0;34m=\u001b[0m\u001b[0;32mFalse\u001b[0m\u001b[0;34m)\u001b[0m\u001b[0;34m\u001b[0m\u001b[0m\n\u001b[0m\u001b[1;32m   2176\u001b[0m         \u001b[0;32melse\u001b[0m\u001b[0;34m:\u001b[0m\u001b[0;34m\u001b[0m\u001b[0m\n\u001b[1;32m   2177\u001b[0m             \u001b[0mindexer\u001b[0m \u001b[0;34m=\u001b[0m \u001b[0mself\u001b[0m\u001b[0;34m.\u001b[0m\u001b[0mloc\u001b[0m\u001b[0;34m.\u001b[0m\u001b[0m_convert_to_indexer\u001b[0m\u001b[0;34m(\u001b[0m\u001b[0mkey\u001b[0m\u001b[0;34m,\u001b[0m \u001b[0maxis\u001b[0m\u001b[0;34m=\u001b[0m\u001b[0;36m1\u001b[0m\u001b[0;34m)\u001b[0m\u001b[0;34m\u001b[0m\u001b[0m\n",
      "\u001b[0;32m/anaconda/envs/networkx/lib/python3.6/site-packages/pandas/core/generic.py\u001b[0m in \u001b[0;36m_take\u001b[0;34m(self, indices, axis, convert, is_copy)\u001b[0m\n\u001b[1;32m   2148\u001b[0m         new_data = self._data.take(indices,\n\u001b[1;32m   2149\u001b[0m                                    \u001b[0maxis\u001b[0m\u001b[0;34m=\u001b[0m\u001b[0mself\u001b[0m\u001b[0;34m.\u001b[0m\u001b[0m_get_block_manager_axis\u001b[0m\u001b[0;34m(\u001b[0m\u001b[0maxis\u001b[0m\u001b[0;34m)\u001b[0m\u001b[0;34m,\u001b[0m\u001b[0;34m\u001b[0m\u001b[0m\n\u001b[0;32m-> 2150\u001b[0;31m                                    verify=True)\n\u001b[0m\u001b[1;32m   2151\u001b[0m         \u001b[0mresult\u001b[0m \u001b[0;34m=\u001b[0m \u001b[0mself\u001b[0m\u001b[0;34m.\u001b[0m\u001b[0m_constructor\u001b[0m\u001b[0;34m(\u001b[0m\u001b[0mnew_data\u001b[0m\u001b[0;34m)\u001b[0m\u001b[0;34m.\u001b[0m\u001b[0m__finalize__\u001b[0m\u001b[0;34m(\u001b[0m\u001b[0mself\u001b[0m\u001b[0;34m)\u001b[0m\u001b[0;34m\u001b[0m\u001b[0m\n\u001b[1;32m   2152\u001b[0m \u001b[0;34m\u001b[0m\u001b[0m\n",
      "\u001b[0;32m/anaconda/envs/networkx/lib/python3.6/site-packages/pandas/core/internals.py\u001b[0m in \u001b[0;36mtake\u001b[0;34m(self, indexer, axis, verify, convert)\u001b[0m\n\u001b[1;32m   4244\u001b[0m                              dtype='int64')\n\u001b[1;32m   4245\u001b[0m                    \u001b[0;32mif\u001b[0m \u001b[0misinstance\u001b[0m\u001b[0;34m(\u001b[0m\u001b[0mindexer\u001b[0m\u001b[0;34m,\u001b[0m \u001b[0mslice\u001b[0m\u001b[0;34m)\u001b[0m\u001b[0;34m\u001b[0m\u001b[0m\n\u001b[0;32m-> 4246\u001b[0;31m                    else np.asanyarray(indexer, dtype='int64'))\n\u001b[0m\u001b[1;32m   4247\u001b[0m \u001b[0;34m\u001b[0m\u001b[0m\n\u001b[1;32m   4248\u001b[0m         \u001b[0mn\u001b[0m \u001b[0;34m=\u001b[0m \u001b[0mself\u001b[0m\u001b[0;34m.\u001b[0m\u001b[0mshape\u001b[0m\u001b[0;34m[\u001b[0m\u001b[0maxis\u001b[0m\u001b[0;34m]\u001b[0m\u001b[0;34m\u001b[0m\u001b[0m\n",
      "\u001b[0;32m/anaconda/envs/networkx/lib/python3.6/site-packages/numpy/core/numeric.py\u001b[0m in \u001b[0;36masanyarray\u001b[0;34m(a, dtype, order)\u001b[0m\n\u001b[1;32m    581\u001b[0m \u001b[0;34m\u001b[0m\u001b[0m\n\u001b[1;32m    582\u001b[0m     \"\"\"\n\u001b[0;32m--> 583\u001b[0;31m     \u001b[0;32mreturn\u001b[0m \u001b[0marray\u001b[0m\u001b[0;34m(\u001b[0m\u001b[0ma\u001b[0m\u001b[0;34m,\u001b[0m \u001b[0mdtype\u001b[0m\u001b[0;34m,\u001b[0m \u001b[0mcopy\u001b[0m\u001b[0;34m=\u001b[0m\u001b[0;32mFalse\u001b[0m\u001b[0;34m,\u001b[0m \u001b[0morder\u001b[0m\u001b[0;34m=\u001b[0m\u001b[0morder\u001b[0m\u001b[0;34m,\u001b[0m \u001b[0msubok\u001b[0m\u001b[0;34m=\u001b[0m\u001b[0;32mTrue\u001b[0m\u001b[0;34m)\u001b[0m\u001b[0;34m\u001b[0m\u001b[0m\n\u001b[0m\u001b[1;32m    584\u001b[0m \u001b[0;34m\u001b[0m\u001b[0m\n\u001b[1;32m    585\u001b[0m \u001b[0;34m\u001b[0m\u001b[0m\n",
      "\u001b[0;31mKeyboardInterrupt\u001b[0m: "
     ]
    }
   ],
   "source": [
    "# Count occurences of users as (mentioned, retweeted, replied)\n",
    "\n",
    "#print(log.shape[0])\n",
    "\n",
    "users = log[\"user2\"].drop_duplicates()\n",
    "#print(users.shape[0])\n",
    "\n",
    "counts = np.zeros((users.shape[0], num_periods), dtype=np.uint32)\n",
    "user_index = np.zeros(users.shape[0], dtype=np.uint32)\n",
    "\n",
    "first = True\n",
    "for i in range(num_periods):\n",
    "    print(i)\n",
    "    split = splits[i]\n",
    "    j = 0\n",
    "    for user in users:\n",
    "        if first:\n",
    "            user_index[j] = user\n",
    "        counts[j][i] = (split[split[\"user2\"] == user]).shape[0]\n",
    "        j += 1\n",
    "    first = not first\n",
    "        "
   ]
  },
  {
   "cell_type": "code",
   "execution_count": null,
   "metadata": {},
   "outputs": [],
   "source": [
    "print(counts[0:10, :])\n",
    "print(user_index[0:10])"
   ]
  },
  {
   "cell_type": "code",
   "execution_count": null,
   "metadata": {},
   "outputs": [],
   "source": [
    "from sklearn import metrics\n",
    "from sklearn.cluster import KMeans\n",
    "from sklearn.datasets import load_digits\n",
    "from sklearn.decomposition import PCA\n",
    "from sklearn.preprocessing import scale, StandardScaler\n",
    "\n",
    "data = counts\n",
    "#scaler = StandardScaler().fit(data)\n",
    "#centered = scaler.transform(data)\n",
    "\n",
    "num_clusters = 4\n",
    "\n",
    "pca = PCA(n_components=2).fit(data)\n",
    "reduced_data = pca.transform(data)\n",
    "kmeans = KMeans(init='k-means++', n_clusters=num_clusters, n_init=10)\n",
    "kmeans.fit(reduced_data)\n",
    "print(\"fitted\")\n"
   ]
  },
  {
   "cell_type": "code",
   "execution_count": null,
   "metadata": {},
   "outputs": [],
   "source": [
    "\"\"\"Describe clustering results\"\"\"\n",
    "\n",
    "centroids = kmeans.cluster_centers_\n",
    "print(centroids.shape)\n",
    "i_centroids = pca.inverse_transform(centroids)\n",
    "print(i_centroids)\n",
    "#i_centroids = scaler.inverse_transform(i_centroids)\n",
    "#print(i_centroids)\n",
    "\n",
    "# Print centroids\n",
    "clusters = []\n",
    "for i in range(num_clusters):\n",
    "    (c,) = np.where(kmeans.labels_ == i)\n",
    "    print(reduced_data[c].shape)\n",
    "    #c is row numbers in the reduced_data matrix ~ data_matrix = (59000, 4)\n",
    "    clusters.append(c)\n",
    "    num_in_cluster = len(c)\n",
    "    print(\"{} users in cluster {}\".format(num_in_cluster, i))\n",
    "    if i == 1:\n",
    "        print(user_index[c[1]])\n",
    "\n",
    "# Plot centroids along time-axis\n",
    "plt.figure(2)\n",
    "handles = []\n",
    "P = range(num_periods)\n",
    "for i in range(num_clusters):\n",
    "    h, = plt.semilogy(P, i_centroids[i,:], label=\"Cluster {}\".format(i))\n",
    "    handles.append(h)\n",
    "\n",
    "plt.legend(handles=handles)\n",
    "plt.xticks(P, [\"I\", \"II\", \"III\", \"IV\"])\n",
    "plt.show()"
   ]
  },
  {
   "cell_type": "code",
   "execution_count": null,
   "metadata": {},
   "outputs": [],
   "source": [
    "cl0_reduced_data = reduced_data[clusters[0]]\n",
    "\n",
    "print(data.shape)\n",
    "print(cl0_reduced_data.shape)\n",
    "\n",
    "kmeans_cl0 = KMeans(init='k-means++', n_clusters=num_clusters, n_init=10)\n",
    "\n",
    "kmeans_cl0.fit(cl0_reduced_data)\n",
    "\n",
    "\"\"\"Describe clustering results\"\"\"\n",
    "\n",
    "cl0_centroids = kmeans_cl0.cluster_centers_\n",
    "cl0_i_centroids = pca.inverse_transform(cl0_centroids)\n",
    "#print(i_centroids)\n",
    "#i_centroids = scaler.inverse_transform(i_centroids)\n",
    "#print(i_centroids)\n",
    "\n",
    "# Print centroids\n",
    "for i in range(num_clusters):\n",
    "    (c,) = np.where(kmeans_cl0.labels_ == i)\n",
    "    num_in_cluster = len(c)\n",
    "    print(\"{} users in cluster {}\".format(num_in_cluster, i))\n",
    "#    if i == 1:\n",
    "#        print(user_index[c[1]])\n",
    "\n",
    "# Plot centroids along time-axis\n",
    "plt.figure(3)\n",
    "handles = []\n",
    "P = range(num_periods)\n",
    "for i in range(num_clusters):\n",
    "    h, = plt.semilogy(P, i_centroids[i,:], label=\"Cluster {}\".format(i))\n",
    "    handles.append(h)\n",
    "\n",
    "plt.legend(handles=handles)\n",
    "plt.xticks(P, [\"I\", \"II\", \"III\", \"IV\"])\n",
    "plt.show()\n"
   ]
  },
  {
   "cell_type": "code",
   "execution_count": null,
   "metadata": {
    "collapsed": true
   },
   "outputs": [],
   "source": [
    "\"\"\"Find a unique (cluster 1) user\"\"\"\n",
    "\n",
    "averages = [0]*num_clusters\n",
    "\n",
    "for i in range(1,num_clusters):\n",
    "\n",
    "    users_in_cluster = user_index[np.where(kmeans.labels_ == i)]\n",
    "    avg = 0.0\n",
    "    for user in users_in_cluster:\n",
    "        avg += (log[log[\"user2\"] == user]).shape[0]\n",
    "    avg /= len(users_in_cluster)\n",
    "    averages[i] = avg\n",
    "    \n",
    "print(averages)"
   ]
  }
 ],
 "metadata": {
  "kernelspec": {
   "display_name": "Python 3",
   "language": "python",
   "name": "python3"
  },
  "language_info": {
   "codemirror_mode": {
    "name": "ipython",
    "version": 3
   },
   "file_extension": ".py",
   "mimetype": "text/x-python",
   "name": "python",
   "nbconvert_exporter": "python",
   "pygments_lexer": "ipython3",
   "version": "3.6.3"
  }
 },
 "nbformat": 4,
 "nbformat_minor": 2
}
