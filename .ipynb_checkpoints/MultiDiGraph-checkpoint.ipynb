{
 "cells": [
  {
   "cell_type": "markdown",
   "metadata": {},
   "source": [
    "## MultiDiGraph\n",
    "\n",
    "Experiments in \"collapsing\" a multidigraph into a simple probability-weighted digraph.\n",
    "\n",
    "Desired features:\n",
    "+ \"Reasonable\" distribution of final weights\n",
    "+ \"Meaningful\" weights, as a function of incoming edges and total stats\n",
    "\n",
    "Before:             |  After:\n",
    ":-------------------------:|:-------------------------:\n",
    "![Image](Figures/MultiDiGraph.png)  |  ![Image](Figures/MultiDiGraphII.png)"
   ]
  },
  {
   "cell_type": "code",
   "execution_count": 75,
   "metadata": {},
   "outputs": [
    {
     "name": "stdout",
     "output_type": "stream",
     "text": [
      "=====MULTIDIGRAPH:=====\n",
      "Peter Mary {'type': 'FR'}\n",
      "Peter Mary {'type': 'MT'}\n",
      "Peter Paul {'type': 'RT'}\n",
      "Peter Paul {'type': 'RT'}\n",
      "Peter Paul {'type': 'MT'}\n",
      "Mary Peter {'type': 'RE'}\n",
      "Mary Paul {'type': 'FR'}\n",
      "Mary Paul {'type': 'RT'}\n",
      "=====CONVERT TO DIGRAPH:=====\n",
      "Peter Mary {'weight': 0.01}\n",
      "Paul Peter {'weight': 0.30000000000000004}\n",
      "Paul Mary {'weight': 0.2}\n",
      "Mary Peter {'weight': 0.2}\n"
     ]
    }
   ],
   "source": [
    "#=====MULTIDIGRAPH:=====\n",
    "#Peter Mary {'type': 'FR'}\n",
    "#Peter Mary {'type': 'MT'}\n",
    "#Peter Paul {'type': 'RT'}\n",
    "#Peter Paul {'type': 'RT'}\n",
    "#Peter Paul {'type': 'MT'}\n",
    "#Mary Peter {'type': 'RE'}\n",
    "#Mary Paul {'type': 'FR'}\n",
    "#Mary Paul {'type': 'RT'}\n",
    "#=====CONVERT TO DIGRAPH:=====\n",
    "#Peter Mary {'weight': 0.01}\n",
    "#Paul Peter {'weight': 0.3}\n",
    "#Paul Mary {'weight': 0.2}\n",
    "#Mary Peter {'weight': 0.2}\n",
    "\n",
    "import networkx as nx\n",
    "\n",
    "type_weights = {\"RT\" : 0.1, \"RE\" : 0.01, \"RT\" : 0.1, \"MT\" : 0.1, \"FR\" : 0.1}\n",
    "\n",
    "def print_multidigraph(G):\n",
    "    for u,v,data in G.edges_iter(data=True):\n",
    "        print(u, v, data)\n",
    "    \n",
    "def create_multidigraph():\n",
    "    G = nx.MultiDiGraph()\n",
    "    G.add_nodes_from([\"Peter\", \"Paul\", \"Mary\"])\n",
    "    G.add_edges_from([(\"Peter\", \"Mary\", {\"type\": \"FR\"})])\n",
    "    G.add_edges_from([(\"Peter\", \"Mary\", {\"type\": \"MT\"})])\n",
    "    G.add_edges_from([(\"Mary\", \"Peter\", {\"type\": \"RE\"})])\n",
    "    G.add_edges_from([(\"Mary\", \"Paul\", {\"type\": \"FR\"})])\n",
    "    G.add_edges_from([(\"Mary\", \"Paul\", {\"type\": \"RT\"})])\n",
    "    G.add_edges_from([(\"Peter\", \"Paul\", {\"type\": \"RT\"})])\n",
    "    G.add_edges_from([(\"Peter\", \"Paul\", {\"type\": \"RT\"})])\n",
    "    G.add_edges_from([(\"Peter\", \"Paul\", {\"type\": \"MT\"})])\n",
    "    return G\n",
    "    \n",
    "def to_digraph(M):\n",
    "    \"\"\"Combines parallel edges in M to weighted edges in G\"\"\"\n",
    "    \n",
    "    # First, cast to DiGraph. This arbitrarily chooses attributes of paralell edges\n",
    "    G = nx.DiGraph(M)\n",
    "    \n",
    "    # Remove all attributes from edges\n",
    "    for u,v,data in M.edges_iter(data=True):\n",
    "        for k in data:\n",
    "            if k in G[u][v]:\n",
    "                del G[u][v][k]\n",
    "            \n",
    "    nx.set_edge_attributes(G, \"weight\", 0.0)\n",
    "    \n",
    "    # Now start building the weight = p_{uv}'s of G \n",
    "    for u,v,data in M.edges_iter(data=True):\n",
    "        for k in data:\n",
    "            G[u][v][\"weight\"] += type_weights[data[k]]   \n",
    "    \n",
    "    \n",
    "    return G.reverse(copy=False)\n",
    "\n",
    "G = create_multidigraph()\n",
    "\n",
    "print(\"=====MULTIDIGRAPH:=====\")\n",
    "print_multidigraph(G)\n",
    "G = to_digraph(G)\n",
    "\n",
    "print(\"=====CONVERT TO DIGRAPH:=====\")\n",
    "print_multidigraph(G)\n"
   ]
  }
 ],
 "metadata": {
  "kernelspec": {
   "display_name": "Python 3",
   "language": "python",
   "name": "python3"
  },
  "language_info": {
   "codemirror_mode": {
    "name": "ipython",
    "version": 3
   },
   "file_extension": ".py",
   "mimetype": "text/x-python",
   "name": "python",
   "nbconvert_exporter": "python",
   "pygments_lexer": "ipython3",
   "version": "3.6.1"
  }
 },
 "nbformat": 4,
 "nbformat_minor": 2
}
