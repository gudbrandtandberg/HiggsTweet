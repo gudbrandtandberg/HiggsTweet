{
 "cells": [
  {
   "cell_type": "markdown",
   "metadata": {},
   "source": [
    "## MultiDiGraph\n",
    "\n",
    "Experiments in \"collapsing\" a multidigraph into a simple probability-weighted digraph.\n",
    "\n",
    "Meaning of interactions needs to be gauged. Potential for ML. \n",
    "\n",
    "Desired features:\n",
    "+ \"Reasonable\" distribution of final weights\n",
    "+ \"Meaningful\" weights, as a function of incoming edges and total stats\n",
    "\n",
    "Before:             |  After:\n",
    ":-------------------------:|:-------------------------:\n",
    "![Image](Report/Figures/MultiDiGraph.png)  |  ![Image](Report/Figures/MultiDiGraphII.png)\n",
    "\n",
    "\n",
    "### Weighted Cascade\n",
    "\n",
    "__IC-WC__: IC model with weighted cascade probabilities, that is, each in-coming arc of $v$ has probability $\\frac{1}{d_v}$, where $d_v$ is the in-degree of $v$ before removing duplicated arcs. If there are $c(u,v)$ arcs from $u$ to $v$, we have $$p_{uv} = 1 - (1 - 1/d(v))^{c(u,v)}$$ in the graph with duplicated arcs removed."
   ]
  },
  {
   "cell_type": "code",
   "execution_count": 1,
   "metadata": {
    "collapsed": true
   },
   "outputs": [],
   "source": [
    "def create_multidigraph():\n",
    "    G = nx.MultiDiGraph()\n",
    "    G.add_nodes_from([\"Peter\", \"Paul\", \"Mary\"])\n",
    "    G.add_edge(\"Peter\", \"Mary\", kind=\"FR\")\n",
    "    G.add_edge(\"Peter\", \"Mary\", kind=\"MT\")\n",
    "    G.add_edge(\"Mary\", \"Peter\", kind=\"RE\")\n",
    "    G.add_edge(\"Mary\", \"Paul\", kind=\"FR\")\n",
    "    G.add_edge(\"Mary\", \"Paul\", kind=\"RT\")\n",
    "    G.add_edge(\"Peter\", \"Paul\", kind=\"RT\")\n",
    "    G.add_edge(\"Peter\", \"Paul\", kind=\"RT\")\n",
    "    G.add_edge(\"Peter\", \"Paul\", kind=\"MT\")\n",
    "    return G\n",
    "    \n",
    "def to_digraph(M):\n",
    "    \"\"\"Combines parallel edges in M to weighted edges in G\"\"\"\n",
    "    \n",
    "    # First, cast to DiGraph. This arbitrarily chooses attributes of paralell edges\n",
    "    G = nx.DiGraph(M)\n",
    "    \n",
    "    # Then, count in-edges and 'kinds'\n",
    "    \n",
    "    #for u,v,data in M.edges(data=True):\n",
    "    \n",
    "    \n",
    "    # Remove all attributes from edges\n",
    "    for u,v,data in M.edges(data=True):\n",
    "        for k in data:\n",
    "            if k in G[u][v]: #why?\n",
    "                del G[u][v][k]\n",
    "            \n",
    "    nx.set_edge_attributes(G, 0.0, \"weight\")\n",
    "    \n",
    "    # Now start building the weight = p_{uv}'s of G \n",
    "    for u,v,data in M.edges(data=True):\n",
    "        G[u][v][\"weight\"] += weights[data[\"kind\"]]\n",
    "    \n",
    "    return G.reverse(copy=False)\n",
    "\n",
    "def print_multidigraph(G):\n",
    "    for u,v,data in G.edges(data=True):\n",
    "        print(u, v, data)"
   ]
  },
  {
   "cell_type": "code",
   "execution_count": 2,
   "metadata": {},
   "outputs": [
    {
     "name": "stdout",
     "output_type": "stream",
     "text": [
      "=====MULTIDIGRAPH:=====\n",
      "Peter Mary {'kind': 'FR'}\n",
      "Peter Mary {'kind': 'MT'}\n",
      "Peter Paul {'kind': 'RT'}\n",
      "Peter Paul {'kind': 'RT'}\n",
      "Peter Paul {'kind': 'MT'}\n",
      "Mary Peter {'kind': 'RE'}\n",
      "Mary Paul {'kind': 'FR'}\n",
      "Mary Paul {'kind': 'RT'}\n",
      "=====CONVERT TO DIGRAPH:=====\n",
      "Peter Mary {'weight': 0.01}\n",
      "Paul Peter {'weight': 0.30000000000000004}\n",
      "Paul Mary {'weight': 0.2}\n",
      "Mary Peter {'weight': 0.2}\n"
     ]
    }
   ],
   "source": [
    "import networkx as nx\n",
    "\n",
    "weights = {\"RT\" : 0.01, \"RE\" : 0.001, \"RT\" : 0.01, \"MT\" : 0.01, \"FR\" : 0.01}\n",
    "\n",
    "#for u, v, keys, weight in G.edges(data='weight', keys=True):\n",
    "#    if weight is not None:\n",
    "#        pass\n",
    "\n",
    "def num_edges_from_to(G, u, v):\n",
    "    \"\"\"compute c(u, v)\"\"\"\n",
    "    \n",
    "    return len([x for x in G.predecessors(u) if x == v])\n",
    "\n",
    "def weighted_edges_from_to(G, u, v):\n",
    "    \"\"\"compute W(u, v)\"\"\"\n",
    "    weight = 1.0\n",
    "    \n",
    "    \n",
    "    print(list(G.get_edge_data(u,v)))\n",
    "#    for item in G[u][v]:\n",
    " #       print(item)\n",
    "  #      weight += 1\n",
    "        #weight += weights[G[u][v][\"kind\"]]\n",
    "                \n",
    "    return weight\n",
    "    \n",
    "\n",
    "G = create_multidigraph()\n",
    "\n",
    "#print(weighted_edges_from_to(G, \"Peter\", \"Paul\"))\n",
    "#print(weighted_edges_from_to(G, \"Paul\", \"Peter\"))\n",
    "\n",
    "print(\"=====MULTIDIGRAPH:=====\")\n",
    "print_multidigraph(G)\n",
    "G = to_digraph(G)\n",
    "\n",
    "print(\"=====CONVERT TO DIGRAPH:=====\")\n",
    "print_multidigraph(G)\n"
   ]
  },
  {
   "cell_type": "code",
   "execution_count": 4,
   "metadata": {},
   "outputs": [
    {
     "name": "stdout",
     "output_type": "stream",
     "text": [
      "[('Mary', 'Peter', 0), ('Mary', 'Paul', 0), ('Mary', 'Paul', 1), ('Peter', 'Paul', 0), ('Peter', 'Paul', 1), ('Peter', 'Paul', 2), ('Peter', 'Mary', 0), ('Peter', 'Mary', 1)]\n",
      "None\n",
      "[]\n",
      "['Mary']\n"
     ]
    }
   ],
   "source": [
    "print(list(G.in_edges))\n",
    "\n",
    "print(G.get_edge_data(\"Paul\", \"Peter\"))\n",
    "\n",
    "print(list(G[\"Paul\"]))\n",
    "\n",
    "print(list(G.predecessors(\"Peter\")))"
   ]
  }
 ],
 "metadata": {
  "kernelspec": {
   "display_name": "Python 3",
   "language": "python",
   "name": "python3"
  },
  "language_info": {
   "codemirror_mode": {
    "name": "ipython",
    "version": 3
   },
   "file_extension": ".py",
   "mimetype": "text/x-python",
   "name": "python",
   "nbconvert_exporter": "python",
   "pygments_lexer": "ipython3",
   "version": "3.6.3"
  }
 },
 "nbformat": 4,
 "nbformat_minor": 2
}
