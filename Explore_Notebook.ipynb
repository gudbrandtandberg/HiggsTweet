{
 "cells": [
  {
   "cell_type": "markdown",
   "metadata": {},
   "source": [
    "# Higgs Tweet - Exploratory Notebook"
   ]
  },
  {
   "cell_type": "markdown",
   "metadata": {},
   "source": [
    "## Setup"
   ]
  },
  {
   "cell_type": "code",
   "execution_count": 1,
   "metadata": {
    "collapsed": true
   },
   "outputs": [],
   "source": [
    "import networkx as nx\n",
    "import matplotlib.pyplot as plt\n",
    "import numpy as np\n",
    "import os, sys, random\n"
   ]
  },
  {
   "cell_type": "code",
   "execution_count": 3,
   "metadata": {},
   "outputs": [
    {
     "name": "stdout",
     "output_type": "stream",
     "text": [
      "Graph loaded:\n"
     ]
    }
   ],
   "source": [
    "\"\"\"Load complete unweighted social network graph\"\"\"\n",
    "G = nx.read_edgelist(\"./Data/higgs-social_network.edgelist\",\n",
    "                     create_using=nx.MultiDiGraph(), nodetype=int, data=((\"kind\", str),))\n",
    "\n",
    "\n",
    "# Add Friendship label to each edge in the loaded graph\n",
    "nx.set_edge_attributes(G, \"FR\", \"kind\")\n",
    "\n",
    "print(\"Graph loaded:\")"
   ]
  },
  {
   "cell_type": "code",
   "execution_count": null,
   "metadata": {},
   "outputs": [],
   "source": [
    "\"\"\"Load a sample subgraph of the complete SN graph\"\"\"\n",
    "G = nx.read_edgelist(\"./Data/subgraph_10000.edgelist\",\n",
    "                     create_using=nx.MultiDiGraph(), nodetype=int, data=((\"kind\", str),))\n",
    "nx.set_edge_attributes(G, \"FR\", \"kind\")\n",
    "\n",
    "print(\"Subgraph loaded:\")"
   ]
  },
  {
   "cell_type": "code",
   "execution_count": 4,
   "metadata": {
    "scrolled": true
   },
   "outputs": [
    {
     "name": "stdout",
     "output_type": "stream",
     "text": [
      "456626\n",
      "14855842\n",
      "2.0\n"
     ]
    }
   ],
   "source": [
    "\"\"\"Test Graph\"\"\"\n",
    "\n",
    "print(len(G))\n",
    "print(len(G.edges))\n",
    "print(nx.__version__)\n"
   ]
  },
  {
   "cell_type": "code",
   "execution_count": null,
   "metadata": {
    "collapsed": true
   },
   "outputs": [],
   "source": []
  },
  {
   "cell_type": "markdown",
   "metadata": {},
   "source": [
    "### Read and summarize the event log and add action edges to the graph"
   ]
  },
  {
   "cell_type": "code",
   "execution_count": 5,
   "metadata": {},
   "outputs": [
    {
     "name": "stdout",
     "output_type": "stream",
     "text": [
      "563069\n"
     ]
    }
   ],
   "source": [
    "\"\"\"\n",
    "Read activity log into a list of actions\n",
    "\"\"\"\n",
    "\n",
    "retweet = \"RT\"\n",
    "mention = \"MT\"\n",
    "reply = \"RE\"\n",
    "\n",
    "class Action:\n",
    "    def __init__(self, u1, u2, t, kind):\n",
    "        self.u1 = u1\n",
    "        self.u2 = u2\n",
    "        self.t = t\n",
    "        self.kind = kind\n",
    "    def print(self):\n",
    "        verbs = {\"RT\" : \"retweeted\", \"MT\" : \"mentioned\", \"RE\" : \"replied\"}\n",
    "        print(\"user {} was {} by user {} @ t = {}\".format(self.u2, verbs[self.kind], self.u1, self.t))\n",
    "\n",
    "\n",
    "action_log = []\n",
    "\n",
    "with open(\"./Data/higgs-activity_time.txt\", \"r\") as log:\n",
    "    i=0\n",
    "    for line in log:\n",
    "        if i == 0: #skip header\n",
    "            i+=1\n",
    "            continue\n",
    "            \n",
    "        words = line.split(\" \")\n",
    "        u1 = int(words[0])\n",
    "        u2 = int(words[1])\n",
    "        if (u1 in G and u2 in G):\n",
    "            t = int(words[2])\n",
    "            kind = words[3].rstrip(\"\\n\")\n",
    "            action = Action(u1, u2, t, kind)\n",
    "            action_log.append(action)\n",
    "        else: \n",
    "            print(\"Whoah!\")\n",
    "\n",
    "print(len(action_log))"
   ]
  },
  {
   "cell_type": "code",
   "execution_count": 6,
   "metadata": {},
   "outputs": [
    {
     "name": "stdout",
     "output_type": "stream",
     "text": [
      "user 213163 was mentioned by user 223789 @ t = 1341100972\n",
      "user 213163 was replied by user 223789 @ t = 1341100972\n",
      "user 50329 was retweeted by user 376989 @ t = 1341101181\n",
      "user 168366 was mentioned by user 26375 @ t = 1341101183\n",
      "user 13813 was retweeted by user 376989 @ t = 1341101192\n",
      "user 8 was retweeted by user 453850 @ t = 1341101208\n",
      "user 8 was mentioned by user 422097 @ t = 1341101251\n",
      "user 50329 was retweeted by user 99258 @ t = 1341101263\n",
      "user 364376 was mentioned by user 184615 @ t = 1341101523\n",
      "user 364376 was replied by user 184615 @ t = 1341101523\n",
      "user 1 had influence 0 times, has 16280 followers, and follows 22 users\n",
      "user 2 had influence 3 times, has 4707 followers, and follows 77 users\n",
      "user 3 had influence 0 times, has 137 followers, and follows 25 users\n",
      "user 4 had influence 195 times, has 8643 followers, and follows 402 users\n",
      "user 5 had influence 29 times, has 2194 followers, and follows 58 users\n",
      "user 6 had influence 186 times, has 27088 followers, and follows 101 users\n",
      "user 7 had influence 39 times, has 2146 followers, and follows 99 users\n",
      "user 8 had influence 1280 times, has 32106 followers, and follows 54 users\n",
      "user 9 had influence 0 times, has 567 followers, and follows 29 users\n",
      "user 10 had influence 1 times, has 10204 followers, and follows 305 users\n",
      "350423\n",
      "212646\n"
     ]
    }
   ],
   "source": [
    "\"\"\"Summarize the action log\"\"\"\n",
    "\n",
    "\n",
    "def num_times_spread_by(u, v):\n",
    "    return len([_ for a in action_log if a.u1 == u and a.u2 == v])\n",
    "\n",
    "def num_times_spread(v):\n",
    "    return len([a.u2 for a in action_log if a.u2 == v])\n",
    "\n",
    "def num_followers(u):\n",
    "    return len(list(G.predecessors(u)))\n",
    "\n",
    "def num_following(u):\n",
    "    return len(list(G.successors(u)))\n",
    "\n",
    "for a in action_log[0:10]:\n",
    "    a.print()\n",
    "\n",
    "i=0\n",
    "for u in G:\n",
    "    if i < 10:\n",
    "        print(\"user {} had influence {} times, has {} followers, and follows {} users\".format(u, num_times_spread(u), num_followers(u), num_following(u)))\n",
    "    i += 1\n",
    "\n",
    "\"\"\"\n",
    "Compute \"Friendliness\" of events\n",
    "\"\"\"\n",
    "\n",
    "activities_between_friends = 0\n",
    "activities_between_strangers = 0\n",
    "\n",
    "for a in action_log:\n",
    "    if (G.has_edge(a.u1, a.u2) or G.has_edge(a.u2, a.u1)):\n",
    "        activities_between_friends += 1\n",
    "    else:\n",
    "        activities_between_strangers += 1\n",
    "        \n",
    "print(activities_between_friends)\n",
    "print(activities_between_strangers)"
   ]
  },
  {
   "cell_type": "code",
   "execution_count": 7,
   "metadata": {
    "scrolled": true
   },
   "outputs": [
    {
     "name": "stdout",
     "output_type": "stream",
     "text": [
      "<class 'networkx.classes.multidigraph.MultiDiGraph'>\n",
      "563069\n",
      "14855842\n",
      "15418911\n"
     ]
    }
   ],
   "source": [
    "# G is a MultiDiGraph\n",
    "print(type(G))\n",
    "\n",
    "# action_log is the action log\n",
    "print(len(action_log))\n",
    "\n",
    "print(len(G.edges))\n",
    "\n",
    "for a in action_log:\n",
    "    G.add_edge(a.u1, a.u2, kind=a.kind)\n",
    "    \n",
    "print(len(G.edges))\n",
    "\n"
   ]
  },
  {
   "cell_type": "markdown",
   "metadata": {},
   "source": [
    "## Write \"Weighted Cascade\" probs to file\n",
    "\n",
    "__IC-WC__: IC model with weighted cascade probabilities, that is, each in-coming arc of $v$ has probability $\\frac{1}{d_v}$, where $d_v$ is the in-degree of $v$ before removing duplicated arcs. If there are $c(u,v)$ arcs from $u$ to $v$, we have $p_{uv} = 1 - (1 - 1/d(v))^{c(u,v)}$ in the graph with duplicated arcs removed."
   ]
  },
  {
   "cell_type": "markdown",
   "metadata": {},
   "source": [
    "### Print edge types in MultiGraph"
   ]
  },
  {
   "cell_type": "code",
   "execution_count": 8,
   "metadata": {},
   "outputs": [
    {
     "name": "stdout",
     "output_type": "stream",
     "text": [
      "14855842 354930 171237 36902\n"
     ]
    }
   ],
   "source": [
    "follow = 0\n",
    "retweet = 0\n",
    "mention = 0\n",
    "reply = 0\n",
    "\n",
    "for u, v, item in G.edges(data=True): \n",
    "    if \"kind\" in item:\n",
    "        if item[\"kind\"] == \"RT\":\n",
    "            retweet += 1\n",
    "        elif item[\"kind\"] == \"MT\":\n",
    "            mention += 1\n",
    "        elif item[\"kind\"] == \"FR\":\n",
    "            follow += 1\n",
    "        elif item[\"kind\"] == \"RE\":\n",
    "            reply += 1\n",
    "        else:\n",
    "            print(\"Whaaat!\")\n",
    "    else:\n",
    "        #pass\n",
    "        sys.exit(\"Whoa, stop!\")\n",
    "        \n",
    "print(follow, retweet, mention, reply)"
   ]
  },
  {
   "cell_type": "code",
   "execution_count": 9,
   "metadata": {},
   "outputs": [
    {
     "name": "stdout",
     "output_type": "stream",
     "text": [
      "456626\n",
      "0\n",
      "456626\n",
      "15056959\n"
     ]
    }
   ],
   "source": [
    "# Create DiGraph (tar litt tid..)\n",
    "\n",
    "weights = {\"RT\" : 0.01, \"RE\" : 0.001, \"RT\" : 0.01, \"MT\" : 0.01, \"FR\" : 0.01}\n",
    "\n",
    "D = nx.DiGraph()\n",
    "D.add_nodes_from(G)\n",
    "nx.set_edge_attributes(D, 0.0, \"weight\")\n",
    "print(len(D.nodes))\n",
    "print(len(D.edges))\n",
    "\n",
    "for v in G:\n",
    "    for u in G.neighbors(v):\n",
    "        edges = dict(G[v][u])\n",
    "        weight = 0.0\n",
    "        for key in edges:\n",
    "            edge = edges[key]\n",
    "            weight += weights[edge[\"kind\"]]\n",
    "        D.add_edge(u, v, weight=weight)\n",
    "\n",
    "print(len(D.nodes))\n",
    "print(len(D.edges))\n"
   ]
  },
  {
   "cell_type": "code",
   "execution_count": 12,
   "metadata": {},
   "outputs": [
    {
     "data": {
      "image/png": "[encoded data removed]",
      "text/plain": [
       "<matplotlib.figure.Figure at 0x1080bdba8>"
      ]
     },
     "metadata": {},
     "output_type": "display_data"
    }
   ],
   "source": [
    "weights = list(nx.get_edge_attributes(D, \"weight\").values())\n",
    "plt.figure(1)\n",
    "plt.hist(weights[:1000])\n",
    "plt.show()\n"
   ]
  },
  {
   "cell_type": "code",
   "execution_count": 13,
   "metadata": {},
   "outputs": [
    {
     "name": "stdout",
     "output_type": "stream",
     "text": [
      "456626\n",
      "12702170\n"
     ]
    }
   ],
   "source": [
    "nx.write_weighted_edgelist(D, \"Data/higggs-complete-graph.edgelist\")\n",
    "\n",
    "X = nx.read_weighted_edgelist(\"Data/higggs-complete-graph.edgelist\")\n",
    "print(len(X))\n",
    "print(len(X.edges))"
   ]
  },
  {
   "cell_type": "markdown",
   "metadata": {},
   "source": [
    "## Plot Degree Distributions"
   ]
  },
  {
   "cell_type": "code",
   "execution_count": null,
   "metadata": {
    "scrolled": false
   },
   "outputs": [],
   "source": [
    "\"\"\"Plot sumary stats: Degree Distributions\"\"\" \n",
    "\n",
    "in_degree = sorted([d for (n, d) in G.in_degree()], reverse=True)\n",
    "out_degree = sorted([d for (n, d) in G.out_degree()], reverse=True)\n",
    "degree = sorted([d for (n, d) in G.degree()], reverse=True)\n",
    "\n",
    "plt.figure(figsize=(15,5))\n",
    "\n",
    "#TODO should use histogram\n",
    "\n",
    "plt.subplot(1, 3, 1)\n",
    "plt.plot(range(len(G)), in_degree)\n",
    "plt.title(\"In-degree dist.\")\n",
    "\n",
    "plt.subplot(1, 3, 2)\n",
    "plt.plot(range(len(G)), out_degree)\n",
    "plt.title(\"Out-degree dist.\")\n",
    "\n",
    "plt.subplot(1, 3, 3)\n",
    "plt.plot(range(len(G)), degree)\n",
    "plt.title(\"Degree dist\")\n",
    "\n",
    "plt.show()"
   ]
  },
  {
   "cell_type": "markdown",
   "metadata": {},
   "source": [
    "## Sample from Graph"
   ]
  },
  {
   "cell_type": "code",
   "execution_count": null,
   "metadata": {
    "collapsed": true
   },
   "outputs": [],
   "source": [
    "\"\"\"Subsample graph using Random Walks with teleporting\"\"\"\n",
    "\n",
    "epsilon = 0.1\n",
    "N = 10000\n",
    "visited = set()\n",
    "n = len(G)\n",
    "\n",
    "seed = np.random.choice(n)\n",
    "\n",
    "while len(visited) < N:\n",
    "    if len(visited) == 0:\n",
    "        node = seed\n",
    "    else:\n",
    "        jump = np.random.uniform()\n",
    "        if jump < epsilon:\n",
    "            #teleport\n",
    "            node = np.random.choice(n)\n",
    "        else:\n",
    "            if len(G[node]) == 0:\n",
    "                # node has no out-neighbours\n",
    "                continue\n",
    "            node = np.random.choice([u for u in G[node]])\n",
    "        \n",
    "    visited.add(node)\n",
    "\n",
    "H = nx.subgraph(G, visited)\n",
    "nx.write_edgelist(H, \"./Data/subgraph_{}.edgelist\".format(N))\n",
    "print(len(H))\n",
    "del H\n",
    "del G"
   ]
  },
  {
   "cell_type": "markdown",
   "metadata": {},
   "source": [
    "## Write top-k nodes to file (in_deg & deg)"
   ]
  },
  {
   "cell_type": "code",
   "execution_count": null,
   "metadata": {
    "collapsed": true
   },
   "outputs": [],
   "source": [
    "def sort_by_value(arr):\n",
    "    return arr[np.argsort(-arr[:, 1])]\n",
    "\n",
    "def get_top_k_indeg(G, k):\n",
    "    _in =  np.array(G.in_degree()).astype(np.float)\n",
    "    _in = sort_by_value(_in)\n",
    "    return _in[0:k, 0]\n",
    "\n",
    "def get_top_k_deg(G, k):\n",
    "    _deg =  np.array(G.degree()).astype(np.float)\n",
    "    _deg = sort_by_value(_deg)\n",
    "    return _deg[0:k, 0]\n",
    "\n",
    "def strip_decimal(s):\n",
    "    return str(s)[:-2]\n"
   ]
  },
  {
   "cell_type": "code",
   "execution_count": null,
   "metadata": {
    "collapsed": true
   },
   "outputs": [],
   "source": [
    "\"\"\"Output seed-sets of different sizes for different heuristics\"\"\"\n",
    "\n",
    "K = 50\n",
    "\n",
    "for k in range(1, K+1):\n",
    "\n",
    "    S = get_top_k_indeg(G, k)\n",
    "\n",
    "    #S = list(map(strip_decimal, S))\n",
    "    np.save(\"Data/seeds/in_deg/in_deg{}.npy\".format(k), S)\n",
    "    \n",
    "    S = get_top_k_deg(G, k)\n",
    "    #S = list(map(strip_decimal, S))\n",
    "    np.save(\"Data/seeds/deg/deg{}.npy\".format(k), S)\n",
    "\n"
   ]
  },
  {
   "cell_type": "markdown",
   "metadata": {},
   "source": [
    "## Read and Summarize Activity Log"
   ]
  },
  {
   "cell_type": "code",
   "execution_count": null,
   "metadata": {},
   "outputs": [],
   "source": [
    "\"\"\"Compute per-edge influence probabilities\"\"\"\n",
    "\n",
    "nx.set_edge_attributes(action_graph, 0.0, \"weight\")\n",
    "\n",
    "weights = {\"RT\": 1.0, \"MT\": 1.0, \"RE\": 1.0}\n",
    "\n",
    "i = 0\n",
    "for a in action_log:\n",
    "    i += 1\n",
    "    #if i % 1000 == 0:\n",
    "        #print(i)\n",
    "    (u1, u2) = (a.u1, a.u2)\n",
    "    action_graph[u1][u2][\"weight\"] += weights[a.kind.strip()]\n",
    "    #i += num_times_spread_by(u1, u2)\n",
    "      \n",
    "weights = nx.get_edge_attributes(action_graph, \"weight\").values()\n",
    "\n",
    "plt.figure(figsize=(6, 6))\n",
    "plt.hist(weights, list(range(1,50)))#bins = [1, 2, 3, 4, 6, 8, 10, 100])\n",
    "#plt.plot(sorted(weights, reverse=True))\n",
    "plt.title(\"Action frequency between unique pairs of users\")\n",
    "plt.xlabel(\"Number of actions between users\")\n",
    "plt.show()"
   ]
  },
  {
   "cell_type": "markdown",
   "metadata": {},
   "source": [
    "## Write top-k influencial users to file"
   ]
  },
  {
   "cell_type": "code",
   "execution_count": null,
   "metadata": {
    "collapsed": true
   },
   "outputs": [],
   "source": [
    "def get_top_k_infl(G, k):\n",
    "    influence = np.array([[u, num_times_spread(u)] for u in G]).astype(np.float)\n",
    "    influence = sort_by_value(influence)\n",
    "    return influence[0:k, 0]\n",
    "\n",
    "K = 50\n",
    "top_K_influence = get_top_k_infl(G, K)\n",
    "top_K_influence = list(map(strip_decimal, top_K_influence))\n",
    "\n",
    "for k in range(1, K+1):\n",
    "    np.save(\"Data/seeds/infl/infl{}.npy\".format(k), top_K_influence[0:k])\n",
    "    "
   ]
  },
  {
   "cell_type": "code",
   "execution_count": null,
   "metadata": {
    "collapsed": true
   },
   "outputs": [],
   "source": [
    "print(top_K_influence[0:10])\n",
    "print([num_times_spread(u) for u in top_K_influence[0:10]])"
   ]
  },
  {
   "cell_type": "markdown",
   "metadata": {},
   "source": [
    "## Compute and plot spreads for deg, in_deg & infl"
   ]
  },
  {
   "cell_type": "code",
   "execution_count": null,
   "metadata": {
    "collapsed": true
   },
   "outputs": [],
   "source": [
    "def prepare_graph(G, world=[0.1, 0.01, 0.001]):\n",
    "    nx.set_node_attributes(G, False, \"visited\")\n",
    "    for (v1, v2) in G.edges:\n",
    "        G[v1][v2][\"weight\"] = np.random.choice(world)\n",
    "    return G\n",
    "\n",
    "G = prepare_graph(G)"
   ]
  },
  {
   "cell_type": "code",
   "execution_count": null,
   "metadata": {
    "collapsed": true
   },
   "outputs": [],
   "source": [
    "rand_seeds = []\n",
    "\n",
    "for i in range(1, 51):\n",
    "    rand_seeds.append(np.random.choice(list(G.nodes.keys())))\n",
    "    np.save(\"Data/seeds/rand/rand{}.npy\".format(i), rand_seeds)\n"
   ]
  },
  {
   "cell_type": "code",
   "execution_count": null,
   "metadata": {},
   "outputs": [],
   "source": [
    "#print(deg_seeds[2])\n",
    "#G = nx.convert_node_labels_to_integers(G)\n",
    "\n",
    "os.system(\"printf '\\a'\")"
   ]
  },
  {
   "cell_type": "code",
   "execution_count": null,
   "metadata": {},
   "outputs": [],
   "source": [
    "from spread import *\n",
    "\n",
    "num_seeds = list(range(1, 50))\n",
    "indeg_spreads = []\n",
    "deg_spreads = []\n",
    "infl_spreads = []\n",
    "rand_spreads = []\n",
    "\n",
    "for i in num_seeds:\n",
    "    print(\"Computing spreads for {} seeds\".format(i))\n",
    "    indeg_seeds = np.load(\"Data/seeds/in_deg/in_deg{}.npy\".format(i))\n",
    "    #deg_seeds = np.load(\"Data/seeds/deg/deg{}.npy\".format(i))\n",
    "    #infl_seeds = np.load(\"Data/seeds/infl/infl{}.npy\".format(i))\n",
    "    rand_seeds = np.load(\"Data/seeds/rand/rand{}.npy\".format(i))\n",
    "    \n",
    "    (indeg_n, _) = get_expected_spread(G, indeg_seeds, 100, mean=True)\n",
    "    #(deg_n, _) = get_expected_spread(G, deg_seeds, 100, mean=True)\n",
    "    (rand_n, _) = get_expected_spread(G, rand_seeds, 100, mean=True)\n",
    "    #(infl_n, _) = get_expected_spread(G, infl_seeds, 100, mean=True)\n",
    "    \n",
    "    indeg_spreads.append(indeg_n)\n",
    "    #deg_spreads.append(deg_n)\n",
    "    rand_spreads.append(rand_n)\n",
    "    #infl_spreads.append(infl_n)\n",
    "    \n",
    "os.system(\"printf '\\a'\")\n",
    "\n",
    "plt.plot(num_seeds, indeg_spreads, c='k')\n",
    "#plt.plot(num_seeds, deg_spreads, c='b')\n",
    "plt.plot(num_seeds, rand_spreads, c='y')\n",
    "#plt.plot(num_seeds, infl_spreads, c='r')\n",
    "\n",
    "plt.show()"
   ]
  },
  {
   "cell_type": "code",
   "execution_count": null,
   "metadata": {},
   "outputs": [],
   "source": [
    "plt.plot(num_seeds, indeg_spreads, c='k')\n",
    "plt.plot(num_seeds, deg_spreads, c='b')\n",
    "plt.plot(num_seed, infl_spreads, c='r')\n",
    "plt.plot(num_seeds, rand_spreads, c='y')\n",
    "\n",
    "plt.show()\n",
    "\n",
    "np.save(\"Data/spreads/rand_spreads\", indeg_spreads)\n",
    "np.save(\"Data/spreads/indeg_spreads\", indeg_spreads)\n",
    "np.save(\"Data/spreads/deg_spreads\", deg_spreads)\n",
    "np.save(\"Data/spreads/infl_spreads\", infl_spreads)"
   ]
  },
  {
   "cell_type": "code",
   "execution_count": null,
   "metadata": {
    "collapsed": true
   },
   "outputs": [],
   "source": [
    "print(nx.__version__)\n",
    "\n",
    "print(np.median([d for (_, d) in G.out_degree()]))\n",
    "print(nx.number_connected_components(G.to_undirected()))\n",
    "\n",
    "C = nx.connected_components(G.to_undirected())\n",
    "\n",
    "print([len(c) for c in C])"
   ]
  },
  {
   "cell_type": "markdown",
   "metadata": {},
   "source": [
    "## Community Detection Stuff"
   ]
  },
  {
   "cell_type": "code",
   "execution_count": null,
   "metadata": {
    "collapsed": true
   },
   "outputs": [],
   "source": [
    "\"\"\"\n",
    "Partition the graph into communities, save a community for further work\n",
    "\"\"\"\n",
    "import networkx.algorithms.community as community\n",
    "\n",
    "communities = community.girvan_newman(G)\n",
    "\n",
    "comm = next(communities)\n",
    "\n",
    "while True:\n",
    "    \n",
    "    comm = next(communities)\n",
    "    \n",
    "    comm_sizes = [len(c) for c in comm]\n",
    "    \n",
    "    if max(comm_sizes) < 500:\n",
    "        print(\"Found a partition of comminities with max-size 500\")\n",
    "        break;\n",
    "    print(\"Found nothing, moving on\")\n",
    "    "
   ]
  }
 ],
 "metadata": {
  "kernelspec": {
   "display_name": "Python 3",
   "language": "python",
   "name": "python3"
  },
  "language_info": {
   "codemirror_mode": {
    "name": "ipython",
    "version": 3
   },
   "file_extension": ".py",
   "mimetype": "text/x-python",
   "name": "python",
   "nbconvert_exporter": "python",
   "pygments_lexer": "ipython3",
   "version": "3.6.3"
  }
 },
 "nbformat": 4,
 "nbformat_minor": 2
}
