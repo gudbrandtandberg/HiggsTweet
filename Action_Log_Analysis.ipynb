{
 "cells": [
  {
   "cell_type": "markdown",
   "metadata": {},
   "source": [
    "# Action Log Analysis\n",
    "\n"
   ]
  },
  {
   "cell_type": "code",
   "execution_count": 1,
   "metadata": {
    "collapsed": true
   },
   "outputs": [],
   "source": [
    "import pandas as pd\n",
    "import matplotlib.pyplot as plt\n",
    "import datetime\n",
    "import numpy as np\n",
    "\n",
    "#retweet = \"RT\"\n",
    "#mention = \"MT\"\n",
    "#reply = \"RE\""
   ]
  },
  {
   "cell_type": "code",
   "execution_count": 2,
   "metadata": {
    "scrolled": true
   },
   "outputs": [
    {
     "name": "stdout",
     "output_type": "stream",
     "text": [
      "563069\n",
      "526167\n",
      "                      user1   user2 type\n",
      "time                                    \n",
      "2012-06-30 17:02:52  223789  213163   MT\n",
      "2012-06-30 17:06:21  376989   50329   RT\n",
      "2012-06-30 17:06:23   26375  168366   MT\n",
      "2012-06-30 17:06:32  376989   13813   RT\n",
      "2012-06-30 17:06:48  453850       8   RT\n"
     ]
    }
   ],
   "source": [
    "\"\"\"Read action log into a pandas dataframe\"\"\"\n",
    "\n",
    "def dateparse (timestamp):    \n",
    "    return datetime.datetime.fromtimestamp(float(timestamp))\n",
    "\n",
    "log = pd.read_csv(\"./Data/higgs-activity_time.txt\", delimiter=\" \",\n",
    "                  index_col=\"time\", parse_dates=True, date_parser=dateparse)\n",
    "\n",
    "print(log.shape[0])\n",
    "log = log.loc[log[\"type\"] != \"RE\"]\n",
    "print(log.shape[0])\n",
    "users = log[\"user2\"].drop_duplicates()\n",
    "\n",
    "#threshold = 5\n",
    "#value_counts = log[\"user2\"].value_counts()\n",
    "##print(value_counts.head())\n",
    "#to_remove = value_counts[value_counts <= threshold].index\n",
    "#print(\"will remove: {}\".format(len(to_remove)))\n",
    "#print(to_remove[0])\n",
    "#log = log.drop(to_remove)\n",
    "#\n",
    "#print(log.shape[0])\n",
    "#        \n",
    "print(log.head())\n"
   ]
  },
  {
   "cell_type": "code",
   "execution_count": 3,
   "metadata": {},
   "outputs": [
    {
     "name": "stdout",
     "output_type": "stream",
     "text": [
      "Split 0 has 1437 actions\n",
      "2012-06-30 17:02:52 2012-07-01 09:50:49\n",
      "Split 1 has 7738 actions\n",
      "2012-07-01 09:51:36 2012-07-02 07:26:52\n",
      "Split 2 has 51205 actions\n",
      "2012-07-02 07:26:52 2012-07-03 21:50:52\n",
      "Split 3 has 465327 actions\n",
      "2012-07-03 21:50:52 2012-07-07 14:38:32\n",
      "                      user1  user2 type\n",
      "time                                   \n",
      "2012-07-07 16:58:50   97296  15483   MT\n",
      "2012-07-07 16:59:12   19979  49694   MT\n",
      "2012-07-07 16:59:12   19979  80429   MT\n",
      "2012-07-07 16:59:34  178085   1062   RT\n",
      "2012-07-07 16:59:53   23996    253   RT\n"
     ]
    }
   ],
   "source": [
    "\"\"\"Split a dataset into n unequal time intervals\"\"\"\n",
    "\n",
    "def split_dataset(df, n, tmin, timedeltas):\n",
    "    \"\"\"df must have date index, and timedeltas must stay in range\"\"\"\n",
    "    \n",
    "    splits = []\n",
    "    \n",
    "    _min = tmin\n",
    "    _max = tmin + timedeltas[0]\n",
    "    \n",
    "    for i in range(1,n):\n",
    "        split = df.truncate(before=_min, after=_max)\n",
    "        splits.append(split)\n",
    "        _min = _max\n",
    "        _max = _max + timedeltas[i]\n",
    "    \n",
    "    split = df.truncate(before=_min, after=_max)\n",
    "    splits.append(split)\n",
    "        \n",
    "    return splits\n",
    "\n",
    "# Split dataset into periods I, II, III, IV \n",
    "num_periods = 4\n",
    "tmin = log.index.min()\n",
    "tmax = log.index.max()\n",
    "\n",
    "t1 = 0.7\n",
    "t2 = 0.9\n",
    "t3 = 1.6\n",
    "t4 = 3.7\n",
    "\n",
    "s1 = t1\n",
    "s2 = s1 + t2\n",
    "s3 = s2 + t3\n",
    "s4 = s3 + t4\n",
    "\n",
    "timedeltas = [datetime.timedelta(days=t1),\n",
    "                datetime.timedelta(days=t2),\n",
    "                datetime.timedelta(days=t3),\n",
    "                datetime.timedelta(days=t4)]\n",
    "splits = split_dataset(log, num_periods, tmin, timedeltas)\n",
    "\n",
    "for i in range(num_periods):\n",
    "    print(\"Split {} has {} actions\".format(i, splits[i].shape[0]))\n",
    "    print(splits[i].index.min(), splits[i].index.max())\n",
    "\n",
    "print(log.tail())"
   ]
  },
  {
   "cell_type": "code",
   "execution_count": 4,
   "metadata": {
    "scrolled": true
   },
   "outputs": [
    {
     "data": {
      "image/png": "[encoded data removed]",
      "text/plain": [
       "<matplotlib.figure.Figure at 0x10e2ac320>"
      ]
     },
     "metadata": {},
     "output_type": "display_data"
    }
   ],
   "source": [
    "\"\"\"Make plot of tweets/hour\"\"\"\n",
    "\n",
    "import matplotlib.dates as mdates\n",
    "\n",
    "tmin = log.index.min()\n",
    "tmax = log.index.max()\n",
    "\n",
    "dt = datetime.timedelta(hours=1.0)\n",
    "T = []\n",
    "t = tmin\n",
    "tweets_per_hour = []\n",
    "while t < tmax:\n",
    "    tweets_per_hour.append(log[t:t+dt].shape[0])\n",
    "    T.append(t)\n",
    "    t += dt\n",
    "T = mdates.date2num(T); T = T - T[0]\n",
    "\n",
    "(fig, ax) = plt.subplots()\n",
    "ax.semilogy(T, tweets_per_hour, color=\"k\")\n",
    "ax.axvspan(0, s1, alpha=0.5, color='grey')\n",
    "ax.axvspan(s2, s3, alpha=0.5, color='grey')\n",
    "plt.title(\"Tweets per hour during the event\")\n",
    "plt.xlabel(\"Days since July 1, 2012\")\n",
    "plt.xticks(np.arange(8))\n",
    "plt.show()\n",
    "\n"
   ]
  },
  {
   "cell_type": "markdown",
   "metadata": {},
   "source": [
    "## Table 1: activities / period\n",
    "| Period | #activities |\n",
    "| ------------- |:-------------:|\n",
    "| I      | 1617        |\n",
    "| II     | 23132       |\n",
    "| III    | 370195      |\n",
    "| IV     | 131223      |\n"
   ]
  },
  {
   "cell_type": "code",
   "execution_count": 5,
   "metadata": {},
   "outputs": [
    {
     "name": "stdout",
     "output_type": "stream",
     "text": [
      "0\n",
      "1\n",
      "2\n",
      "3\n"
     ]
    }
   ],
   "source": [
    "# Count occurences of users as (mentioned, retweeted, replied)\n",
    "\n",
    "#print(log.shape[0])\n",
    "\n",
    "users = log[\"user2\"].drop_duplicates()\n",
    "#print(users.shape[0])\n",
    "\n",
    "counts = np.zeros((users.shape[0], num_periods), dtype=np.uint32)\n",
    "user_index = np.zeros(users.shape[0], dtype=np.uint32)\n",
    "\n",
    "first = True\n",
    "for i in range(num_periods):\n",
    "    print(i)\n",
    "    split = splits[i]\n",
    "    j = 0\n",
    "    for user in users:\n",
    "        if first:\n",
    "            user_index[j] = user\n",
    "        counts[j][i] = (split[split[\"user2\"] == user]).shape[0]\n",
    "        j += 1\n",
    "    first = not first\n",
    "        "
   ]
  },
  {
   "cell_type": "code",
   "execution_count": 6,
   "metadata": {},
   "outputs": [
    {
     "name": "stdout",
     "output_type": "stream",
     "text": [
      "[[   2    0    2    0]\n",
      " [   4    1   27   18]\n",
      " [   1    0    0    0]\n",
      " [   5    4  131 1760]\n",
      " [  20   11  656  576]\n",
      " [   1    0    2    0]\n",
      " [   1    0    0    0]\n",
      " [   1    0    0   12]\n",
      " [   1   23    3   11]\n",
      " [   2    9   39  347]]\n",
      "[213163  50329 168366  13813      8 364376 364375  60337  84647  42182]\n"
     ]
    }
   ],
   "source": [
    "print(counts[0:10, :])\n",
    "print(user_index[0:10])"
   ]
  },
  {
   "cell_type": "code",
   "execution_count": 7,
   "metadata": {},
   "outputs": [
    {
     "name": "stdout",
     "output_type": "stream",
     "text": [
      "fitted\n"
     ]
    }
   ],
   "source": [
    "from sklearn import metrics\n",
    "from sklearn.cluster import KMeans\n",
    "from sklearn.datasets import load_digits\n",
    "from sklearn.decomposition import PCA\n",
    "from sklearn.preprocessing import scale, StandardScaler\n",
    "\n",
    "data = counts\n",
    "#scaler = StandardScaler().fit(data)\n",
    "#centered = scaler.transform(data)\n",
    "\n",
    "num_clusters = 4\n",
    "\n",
    "pca = PCA(n_components=2).fit(data)\n",
    "reduced_data = pca.transform(data)\n",
    "kmeans = KMeans(init='k-means++', n_clusters=num_clusters, n_init=10)\n",
    "kmeans.fit(reduced_data)\n",
    "print(\"fitted\")\n"
   ]
  },
  {
   "cell_type": "code",
   "execution_count": 23,
   "metadata": {},
   "outputs": [
    {
     "name": "stdout",
     "output_type": "stream",
     "text": [
      "(4, 2)\n",
      "[[  1.45967830e-02   1.04949277e-01   5.44552014e-01   5.29496318e+00]\n",
      " [  2.45013803e+01   5.97499174e+01   7.55977577e+02   7.88897442e+03]\n",
      " [  1.58167077e+02   4.37158983e+02   5.71566698e+03   2.83010371e+04]\n",
      " [  3.98948730e+00   1.00744465e+01   1.27809400e+02   1.15956259e+03]]\n",
      "(59890, 2)\n",
      "59890 users in cluster 0\n",
      "(3, 2)\n",
      "3 users in cluster 1\n",
      "1988\n",
      "(1, 2)\n",
      "1 users in cluster 2\n",
      "(83, 2)\n",
      "83 users in cluster 3\n"
     ]
    },
    {
     "data": {
      "image/png": "[encoded data removed]",
      "text/plain": [
       "<matplotlib.figure.Figure at 0x1168e9588>"
      ]
     },
     "metadata": {},
     "output_type": "display_data"
    }
   ],
   "source": [
    "\"\"\"Describe clustering results\"\"\"\n",
    "\n",
    "centroids = kmeans.cluster_centers_\n",
    "print(centroids.shape)\n",
    "i_centroids = pca.inverse_transform(centroids)\n",
    "print(i_centroids)\n",
    "#i_centroids = scaler.inverse_transform(i_centroids)\n",
    "#print(i_centroids)\n",
    "\n",
    "# Print centroids\n",
    "clusters = []\n",
    "for i in range(num_clusters):\n",
    "    (c,) = np.where(kmeans.labels_ == i)\n",
    "    print(reduced_data[c].shape)\n",
    "    #c is row numbers in the reduced_data matrix ~ data_matrix = (59000, 4)\n",
    "    clusters.append(c)\n",
    "    num_in_cluster = len(c)\n",
    "    print(\"{} users in cluster {}\".format(num_in_cluster, i))\n",
    "    if i == 1:\n",
    "        print(user_index[c[1]])\n",
    "\n",
    "# Plot centroids along time-axis\n",
    "plt.figure(2)\n",
    "handles = []\n",
    "P = range(num_periods)\n",
    "for i in range(num_clusters):\n",
    "    h, = plt.semilogy(P, i_centroids[i,:], label=\"Cluster {}\".format(i))\n",
    "    handles.append(h)\n",
    "\n",
    "plt.legend(handles=handles)\n",
    "plt.xticks(P, [\"I\", \"II\", \"III\", \"IV\"])\n",
    "plt.show()"
   ]
  },
  {
   "cell_type": "code",
   "execution_count": 30,
   "metadata": {},
   "outputs": [
    {
     "name": "stdout",
     "output_type": "stream",
     "text": [
      "(59977, 4)\n",
      "(59890, 2)\n",
      "58170 users in cluster 0\n",
      "116 users in cluster 1\n",
      "333 users in cluster 2\n",
      "1271 users in cluster 3\n"
     ]
    },
    {
     "data": {
      "image/png": "[encoded data removed]",
      "text/plain": [
       "<matplotlib.figure.Figure at 0x110ac77f0>"
      ]
     },
     "metadata": {},
     "output_type": "display_data"
    }
   ],
   "source": [
    "cl0_reduced_data = reduced_data[clusters[0]]\n",
    "\n",
    "print(data.shape)\n",
    "print(cl0_reduced_data.shape)\n",
    "\n",
    "kmeans_cl0 = KMeans(init='k-means++', n_clusters=num_clusters, n_init=10)\n",
    "\n",
    "kmeans_cl0.fit(cl0_reduced_data)\n",
    "\n",
    "\"\"\"Describe clustering results\"\"\"\n",
    "\n",
    "cl0_centroids = kmeans_cl0.cluster_centers_\n",
    "cl0_i_centroids = pca.inverse_transform(cl0_centroids)\n",
    "#print(i_centroids)\n",
    "#i_centroids = scaler.inverse_transform(i_centroids)\n",
    "#print(i_centroids)\n",
    "\n",
    "# Print centroids\n",
    "for i in range(num_clusters):\n",
    "    (c,) = np.where(kmeans_cl0.labels_ == i)\n",
    "    num_in_cluster = len(c)\n",
    "    print(\"{} users in cluster {}\".format(num_in_cluster, i))\n",
    "#    if i == 1:\n",
    "#        print(user_index[c[1]])\n",
    "\n",
    "# Plot centroids along time-axis\n",
    "plt.figure(3)\n",
    "handles = []\n",
    "P = range(num_periods)\n",
    "for i in range(num_clusters):\n",
    "    h, = plt.semilogy(P, i_centroids[i,:], label=\"Cluster {}\".format(i))\n",
    "    handles.append(h)\n",
    "\n",
    "plt.legend(handles=handles)\n",
    "plt.xticks(P, [\"I\", \"II\", \"III\", \"IV\"])\n",
    "plt.show()\n"
   ]
  },
  {
   "cell_type": "code",
   "execution_count": null,
   "metadata": {
    "collapsed": true
   },
   "outputs": [],
   "source": []
  },
  {
   "cell_type": "code",
   "execution_count": null,
   "metadata": {
    "collapsed": true
   },
   "outputs": [],
   "source": [
    "\"\"\"Find a unique (cluster 1) user\"\"\"\n",
    "\n",
    "averages = [0]*num_clusters\n",
    "\n",
    "for i in range(1,num_clusters):\n",
    "\n",
    "    users_in_cluster = user_index[np.where(kmeans.labels_ == i)]\n",
    "    avg = 0.0\n",
    "    for user in users_in_cluster:\n",
    "        avg += (log[log[\"user2\"] == user]).shape[0]\n",
    "    avg /= len(users_in_cluster)\n",
    "    averages[i] = avg\n",
    "    \n",
    "print(averages)"
   ]
  },
  {
   "cell_type": "code",
   "execution_count": null,
   "metadata": {
    "collapsed": true
   },
   "outputs": [],
   "source": [
    "\"\"\"Summarize the action log\"\"\"\n",
    "\n",
    "\n",
    "def num_times_spread_by(u, v):\n",
    "    return len([_ for a in action_log if a.u1 == u and a.u2 == v])\n",
    "\n",
    "def num_times_spread(v):\n",
    "    return len([a.u2 for a in action_log if a.u2 == v])\n",
    "\n",
    "def num_followers(u):\n",
    "    return len(list(G.predecessors(u)))\n",
    "\n",
    "def num_following(u):\n",
    "    return len(list(G.successors(u)))\n",
    "\n",
    "for a in action_log[0:10]:\n",
    "    a.print()\n",
    "\n",
    "i=0\n",
    "for u in G:\n",
    "    if i < 10:\n",
    "        print(\"user {} had influence {} times, has {} followers, and follows {} users\".format(u, num_times_spread(u), num_followers(u), num_following(u)))\n",
    "    i += 1\n",
    "\n",
    "\"\"\"\n",
    "Compute \"Friendliness\" of events\n",
    "\"\"\"\n",
    "\n",
    "activities_between_friends = 0\n",
    "activities_between_strangers = 0\n",
    "\n",
    "for a in action_log:\n",
    "    if (G.has_edge(a.u1, a.u2) or G.has_edge(a.u2, a.u1)):\n",
    "        activities_between_friends += 1\n",
    "    else:\n",
    "        activities_between_strangers += 1\n",
    "        \n",
    "print(activities_between_friends)\n",
    "print(activities_between_strangers)"
   ]
  },
  {
   "cell_type": "code",
   "execution_count": null,
   "metadata": {
    "collapsed": true
   },
   "outputs": [],
   "source": [
    "\"\"\"\n",
    "Read activity log into a list of actions\n",
    "\"\"\"\n",
    "\n",
    "retweet = \"RT\"\n",
    "mention = \"MT\"\n",
    "reply = \"RE\"\n",
    "\n",
    "class Action:\n",
    "    def __init__(self, u1, u2, t, kind):\n",
    "        self.u1 = u1\n",
    "        self.u2 = u2\n",
    "        self.t = t\n",
    "        self.kind = kind\n",
    "    def print(self):\n",
    "        verbs = {\"RT\" : \"retweeted\", \"MT\" : \"mentioned\", \"RE\" : \"replied\"}\n",
    "        print(\"user {} was {} by user {} @ t = {}\".format(self.u2, verbs[self.kind], self.u1, self.t))\n",
    "\n",
    "\n",
    "action_log = []\n",
    "\n",
    "with open(\"./Data/higgs-activity_time.txt\", \"r\") as log:\n",
    "    i=0\n",
    "    for line in log:\n",
    "        if i == 0: #skip header\n",
    "            i+=1\n",
    "            continue\n",
    "            \n",
    "        words = line.split(\" \")\n",
    "        u1 = int(words[0])\n",
    "        u2 = int(words[1])\n",
    "        if (u1 in G and u2 in G):\n",
    "            t = int(words[2])\n",
    "            kind = words[3].rstrip(\"\\n\")\n",
    "            action = Action(u1, u2, t, kind)\n",
    "            action_log.append(action)\n",
    "        else: \n",
    "            print(\"Whoah!\")\n",
    "\n",
    "print(len(action_log))"
   ]
  }
 ],
 "metadata": {
  "kernelspec": {
   "display_name": "Python 3",
   "language": "python",
   "name": "python3"
  },
  "language_info": {
   "codemirror_mode": {
    "name": "ipython",
    "version": 3
   },
   "file_extension": ".py",
   "mimetype": "text/x-python",
   "name": "python",
   "nbconvert_exporter": "python",
   "pygments_lexer": "ipython3",
   "version": "3.6.3"
  }
 },
 "nbformat": 4,
 "nbformat_minor": 2
}
