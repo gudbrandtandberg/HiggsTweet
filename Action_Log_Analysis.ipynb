{
 "cells": [
  {
   "cell_type": "markdown",
   "metadata": {},
   "source": [
    "# Action Log Analysis\n",
    "\n"
   ]
  },
  {
   "cell_type": "code",
   "execution_count": 1,
   "metadata": {},
   "outputs": [],
   "source": [
    "import pandas as pd\n",
    "import matplotlib.pyplot as plt\n",
    "import datetime\n",
    "import numpy as np"
   ]
  },
  {
   "cell_type": "code",
   "execution_count": 2,
   "metadata": {
    "scrolled": true
   },
   "outputs": [
    {
     "name": "stdout",
     "output_type": "stream",
     "text": [
      "563069\n",
      "                      user1   user2 type\n",
      "time                                    \n",
      "2012-06-30 17:02:52  223789  213163   MT\n",
      "2012-06-30 17:02:52  223789  213163   RE\n",
      "2012-06-30 17:06:21  376989   50329   RT\n",
      "2012-06-30 17:06:23   26375  168366   MT\n",
      "2012-06-30 17:06:32  376989   13813   RT\n"
     ]
    }
   ],
   "source": [
    "\"\"\"Read action log into a pandas dataframe\"\"\"\n",
    "\n",
    "def dateparse (timestamp):    \n",
    "    return datetime.datetime.fromtimestamp(float(timestamp))\n",
    "\n",
    "log = pd.read_csv(\"./Data/higgs-activity_time.txt\", delimiter=\" \",\n",
    "                  index_col=\"time\", parse_dates=True, date_parser=dateparse)\n",
    "\n",
    "print(log.shape[0])\n",
    "\n",
    "users = log[\"user2\"].drop_duplicates()\n",
    "print(log.head())"
   ]
  },
  {
   "cell_type": "code",
   "execution_count": 3,
   "metadata": {},
   "outputs": [
    {
     "name": "stdout",
     "output_type": "stream",
     "text": [
      "0.6223446859976308\n",
      "0.3776553140023692\n",
      "1.0\n"
     ]
    }
   ],
   "source": [
    "fr=350423.\n",
    "u=212646.\n",
    "tot=563069.\n",
    "\n",
    "print(fr/tot)\n",
    "print(u/tot)\n",
    "print((fr + u)/tot)"
   ]
  },
  {
   "cell_type": "code",
   "execution_count": 36,
   "metadata": {},
   "outputs": [
    {
     "name": "stdout",
     "output_type": "stream",
     "text": [
      "4170 3720 171196 383983\n"
     ]
    }
   ],
   "source": [
    "log = pd.read_csv(\"./Data/higgs-activity_time.txt\", delimiter=\" \", index_col=\"time\")\n",
    "period_1_from, period_1_to = 0, 1341187199 # 1st July 23:59:59 GMT\n",
    "period_2_from = period_1_to + 1\n",
    "period_2_to = 1341233999                   # 2nd July 12:59:59 GMT\n",
    "period_3_from = period_2_to + 1\n",
    "period_3_to = 1341388799                   # 3rd July 23:59:59 GMT\n",
    "period_4_from = period_3_to + 1\n",
    "period_4_to = 9999999999                   # Heat death\n",
    "\n",
    "p1 = log.truncate(before=period_1_from, after=period_1_to).shape[0]\n",
    "p2 = log.truncate(before=period_2_from, after=period_2_to).shape[0]\n",
    "p3 = log.truncate(before=period_3_from, after=period_3_to).shape[0]\n",
    "p4 = log.truncate(before=period_4_from, after=period_4_to).shape[0]\n",
    "\n",
    "\n",
    "print(p1, p2, p3, p4)"
   ]
  },
  {
   "cell_type": "code",
   "execution_count": 25,
   "metadata": {},
   "outputs": [
    {
     "ename": "TypeError",
     "evalue": "unsupported operand type(s) for +: 'int' and 'datetime.timedelta'",
     "output_type": "error",
     "traceback": [
      "\u001b[0;31m-------------------------------------------------\u001b[0m",
      "\u001b[0;31mTypeError\u001b[0m       Traceback (most recent call last)",
      "\u001b[0;32m<ipython-input-25-28699c1462fd>\u001b[0m in \u001b[0;36m<module>\u001b[0;34m()\u001b[0m\n\u001b[1;32m     39\u001b[0m                 \u001b[0mdatetime\u001b[0m\u001b[0;34m.\u001b[0m\u001b[0mtimedelta\u001b[0m\u001b[0;34m(\u001b[0m\u001b[0mdays\u001b[0m\u001b[0;34m=\u001b[0m\u001b[0mt3\u001b[0m\u001b[0;34m)\u001b[0m\u001b[0;34m,\u001b[0m\u001b[0;34m\u001b[0m\u001b[0m\n\u001b[1;32m     40\u001b[0m                 datetime.timedelta(days=t4)]\n\u001b[0;32m---> 41\u001b[0;31m \u001b[0msplits\u001b[0m \u001b[0;34m=\u001b[0m \u001b[0msplit_dataset\u001b[0m\u001b[0;34m(\u001b[0m\u001b[0mlog\u001b[0m\u001b[0;34m,\u001b[0m \u001b[0mnum_periods\u001b[0m\u001b[0;34m,\u001b[0m \u001b[0mtmin\u001b[0m\u001b[0;34m,\u001b[0m \u001b[0mtimedeltas\u001b[0m\u001b[0;34m)\u001b[0m\u001b[0;34m\u001b[0m\u001b[0m\n\u001b[0m\u001b[1;32m     42\u001b[0m \u001b[0;34m\u001b[0m\u001b[0m\n\u001b[1;32m     43\u001b[0m \u001b[0;32mfor\u001b[0m \u001b[0mi\u001b[0m \u001b[0;32min\u001b[0m \u001b[0mrange\u001b[0m\u001b[0;34m(\u001b[0m\u001b[0mnum_periods\u001b[0m\u001b[0;34m)\u001b[0m\u001b[0;34m:\u001b[0m\u001b[0;34m\u001b[0m\u001b[0m\n",
      "\u001b[0;32m<ipython-input-25-28699c1462fd>\u001b[0m in \u001b[0;36msplit_dataset\u001b[0;34m(df, n, tmin, timedeltas)\u001b[0m\n\u001b[1;32m      7\u001b[0m \u001b[0;34m\u001b[0m\u001b[0m\n\u001b[1;32m      8\u001b[0m     \u001b[0m_min\u001b[0m \u001b[0;34m=\u001b[0m \u001b[0mtmin\u001b[0m\u001b[0;34m\u001b[0m\u001b[0m\n\u001b[0;32m----> 9\u001b[0;31m     \u001b[0m_max\u001b[0m \u001b[0;34m=\u001b[0m \u001b[0mtmin\u001b[0m \u001b[0;34m+\u001b[0m \u001b[0mtimedeltas\u001b[0m\u001b[0;34m[\u001b[0m\u001b[0;36m0\u001b[0m\u001b[0;34m]\u001b[0m\u001b[0;34m\u001b[0m\u001b[0m\n\u001b[0m\u001b[1;32m     10\u001b[0m \u001b[0;34m\u001b[0m\u001b[0m\n\u001b[1;32m     11\u001b[0m     \u001b[0;32mfor\u001b[0m \u001b[0mi\u001b[0m \u001b[0;32min\u001b[0m \u001b[0mrange\u001b[0m\u001b[0;34m(\u001b[0m\u001b[0;36m1\u001b[0m\u001b[0;34m,\u001b[0m\u001b[0mn\u001b[0m\u001b[0;34m)\u001b[0m\u001b[0;34m:\u001b[0m\u001b[0;34m\u001b[0m\u001b[0m\n",
      "\u001b[0;31mTypeError\u001b[0m: unsupported operand type(s) for +: 'int' and 'datetime.timedelta'"
     ]
    }
   ],
   "source": [
    "\"\"\"Split a dataset into n unequal time intervals\"\"\"\n",
    "\n",
    "def split_dataset(df, n, tmin, timedeltas):\n",
    "    \"\"\"df must have date index, and timedeltas must stay in range\"\"\"\n",
    "    \n",
    "    splits = []\n",
    "    \n",
    "    _min = tmin\n",
    "    _max = tmin + timedeltas[0]\n",
    "    \n",
    "    for i in range(1,n):\n",
    "        split = df.truncate(before=_min, after=_max)\n",
    "        splits.append(split)\n",
    "        _min = _max\n",
    "        _max = _max + timedeltas[i]\n",
    "    \n",
    "    split = df.truncate(before=_min, after=_max)\n",
    "    splits.append(split)\n",
    "        \n",
    "    return splits\n",
    "\n",
    "# Split dataset into periods I, II, III, IV \n",
    "num_periods = 4\n",
    "tmin = log.index.min()\n",
    "tmax = log.index.max()\n",
    "\n",
    "t1 = 1.0\n",
    "t2 = 2.0\n",
    "t3 = 1.0\n",
    "t4 = 3.7\n",
    "\n",
    "s1 = t1\n",
    "s2 = s1 + t2\n",
    "s3 = s2 + t3\n",
    "s4 = s3 + t4\n",
    "\n",
    "timedeltas = [datetime.timedelta(days=t1),\n",
    "                datetime.timedelta(days=t2),\n",
    "                datetime.timedelta(days=t3),\n",
    "                datetime.timedelta(days=t4)]\n",
    "splits = split_dataset(log, num_periods, tmin, timedeltas)\n",
    "\n",
    "for i in range(num_periods):\n",
    "    print(\"Split {} has {} actions\".format(i, splits[i].shape[0]))\n",
    "    print(splits[i].index.min(), splits[i].index.max())\n",
    "\n",
    "print(log.tail())"
   ]
  },
  {
   "cell_type": "code",
   "execution_count": 58,
   "metadata": {
    "scrolled": true
   },
   "outputs": [
    {
     "data": {
      "image/png": "[encoded data removed]",
      "text/plain": [
       "<matplotlib.figure.Figure at 0x10d271080>"
      ]
     },
     "metadata": {},
     "output_type": "display_data"
    }
   ],
   "source": [
    "\"\"\"Make plot of tweets/hour\"\"\"\n",
    "\n",
    "import matplotlib.dates as mdates\n",
    "\n",
    "tmin = log.index.min()\n",
    "tmax = log.index.max()\n",
    "\n",
    "dt = 3600 #datetime.timedelta(hours=1.0)\n",
    "T = []\n",
    "t = tmin\n",
    "tweets_per_hour = []\n",
    "while t < tmax:\n",
    "    tweets_per_hour.append(log.truncate(before=t, after=t+dt).shape[0])\n",
    "    T.append(t)\n",
    "    t += dt\n",
    "T = T - T[0]\n",
    "\n",
    "(fig, ax) = plt.subplots()\n",
    "ax.semilogy(T, tweets_per_hour, color=\"k\")\n",
    "ax.axvspan(0, period_1_to-tmin, alpha=0.5, color='grey')\n",
    "ax.axvspan(period_3_from-tmin, period_3_to-tmin, alpha=0.5, color='grey')\n",
    "plt.title(\"Tweets per hour during the event\")\n",
    "plt.xlabel(\"Days since July 1, 2012\")\n",
    "plt.xticks(np.arange(8)*3600*24, np.arange(8))\n",
    "plt.savefig(\"Report/Figures/tweetsperhour.png\")\n",
    "plt.show()"
   ]
  },
  {
   "cell_type": "markdown",
   "metadata": {},
   "source": [
    "## Table 1: activities / period\n",
    "| Period | #activities |\n",
    "| ------------- |:-------------:|\n",
    "| I      | 4181        |\n",
    "| II     | 49604       |\n",
    "| III    | 356539      |\n",
    "| IV     | 152747      |\n",
    "\n",
    "\n",
    "2012-06-30 17:02:52 2012-07-01 17:02:33\n",
    "\n",
    "2012-07-01 17:03:37 2012-07-03 17:02:47\n",
    "\n",
    "2012-07-03 17:02:54 2012-07-04 17:02:52\n"
   ]
  },
  {
   "cell_type": "code",
   "execution_count": 13,
   "metadata": {},
   "outputs": [
    {
     "name": "stdout",
     "output_type": "stream",
     "text": [
      "0\n",
      "1\n",
      "2\n",
      "3\n"
     ]
    }
   ],
   "source": [
    "# Count occurences of users as (mentioned, retweeted, replied)\n",
    "\n",
    "#print(log.shape[0])\n",
    "\n",
    "users = log[\"user2\"].drop_duplicates()\n",
    "#print(users.shape[0])\n",
    "\n",
    "counts = np.zeros((users.shape[0], num_periods), dtype=np.uint32)\n",
    "user_index = np.zeros(users.shape[0], dtype=np.uint32)\n",
    "\n",
    "first = True\n",
    "for i in range(num_periods):\n",
    "    print(i)\n",
    "    split = splits[i]\n",
    "    j = 0\n",
    "    for user in users:\n",
    "        if first:\n",
    "            user_index[j] = user\n",
    "        counts[j][i] = (split[split[\"user2\"] == user]).shape[0]\n",
    "        j += 1\n",
    "    first = not first\n",
    "        "
   ]
  },
  {
   "cell_type": "code",
   "execution_count": 14,
   "metadata": {},
   "outputs": [
    {
     "name": "stdout",
     "output_type": "stream",
     "text": [
      "[[   3    0    3    0]\n",
      " [   5   26    4   15]\n",
      " [   1    0    0    0]\n",
      " [   5   88 1750   68]\n",
      " [  23  594  642   21]\n",
      " [   2    2    0    0]\n",
      " [   1    0    0    0]\n",
      " [   1    0    5    7]\n",
      " [  15   11    7    7]\n",
      " [   2   24  349   33]]\n",
      "[213163  50329 168366  13813      8 364376 364375  60337  84647  42182]\n"
     ]
    }
   ],
   "source": [
    "print(counts[0:10, :])\n",
    "print(user_index[0:10])"
   ]
  },
  {
   "cell_type": "markdown",
   "metadata": {},
   "source": [
    "## Cluster users"
   ]
  },
  {
   "cell_type": "code",
   "execution_count": 90,
   "metadata": {},
   "outputs": [
    {
     "data": {
      "image/png": "[encoded data removed]",
      "text/plain": [
       "<matplotlib.figure.Figure at 0x11f8424a8>"
      ]
     },
     "metadata": {},
     "output_type": "display_data"
    }
   ],
   "source": [
    "from sklearn import metrics\n",
    "from sklearn.cluster import KMeans\n",
    "from sklearn.decomposition import PCA\n",
    "\n",
    "data = counts\n",
    "num_clusters = 4\n",
    "\n",
    "# Cluster once\n",
    "pca = PCA(n_components=2).fit(data)\n",
    "reduced_data = pca.transform(data)\n",
    "kmeans = KMeans(init='k-means++', n_clusters=num_clusters, n_init=10)\n",
    "\n",
    "kmeans.fit(reduced_data)\n",
    "\n",
    "centroids = kmeans.cluster_centers_\n",
    "i_centroids = pca.inverse_transform(centroids)\n",
    "\n",
    "clusters = []\n",
    "for i in range(num_clusters):\n",
    "    (c,) = np.where(kmeans.labels_ == i)\n",
    "    clusters.append(c)\n",
    "\n",
    "# Have now clustered once, do it again on clusters[0]\n",
    "cl0_reduced_data = reduced_data[clusters[0]]\n",
    "del clusters[0]\n",
    "\n",
    "kmeans.fit(cl0_reduced_data)\n",
    "cl0_centroids = kmeans.cluster_centers_\n",
    "cl0_i_centroids = pca.inverse_transform(cl0_centroids)\n",
    "\n",
    "num_clusters = 3\n",
    "cl0_clusters = []\n",
    "for i in range(num_clusters):\n",
    "    (c,) = np.where(kmeans.labels_ == i)\n",
    "    cl0_clusters.append(c)\n",
    "\n",
    "clusters = clusters + cl0_clusters\n",
    "cluster_sizes = [len(c) for c in clusters]\n",
    "\n",
    "i_centroids = np.concatenate((i_centroids, cl0_i_centroids))\n",
    "sorted_ind = np.argsort(cluster_sizes)\n",
    "cluster_sizes = sorted(cluster_sizes, reverse=True)\n",
    "i_centroids = i_centroids[sorted_ind,:]\n",
    "\n",
    "    \n",
    "# Plot centroids along time-axis\n",
    "fig = plt.figure(figsize=(8, 6))\n",
    "handles = []\n",
    "P = range(num_periods)\n",
    "\n",
    "for i in range(len(clusters)):\n",
    "    h, = plt.semilogy(P, i_centroids[i,:], label=\"Cluster {}, size={}\".format(i, cluster_sizes[i]))\n",
    "    handles.append(h)\n",
    "\n",
    "plt.legend(handles=handles)\n",
    "plt.xticks(P, [\"I\", \"II\", \"III\", \"IV\"])\n",
    "plt.title(\"Cluster centroids\")\n",
    "plt.xlabel(\"period\")\n",
    "plt.ylabel(\"activity level\")\n",
    "#plt.savefig(\"Report/Figures/centroids.png\")\n",
    "plt.show()"
   ]
  },
  {
   "cell_type": "code",
   "execution_count": null,
   "metadata": {
    "collapsed": true
   },
   "outputs": [],
   "source": [
    "\"\"\"Find a unique (cluster 1) user\"\"\"\n",
    "\n",
    "averages = [0]*num_clusters\n",
    "\n",
    "for i in range(1,num_clusters):\n",
    "\n",
    "    users_in_cluster = user_index[np.where(kmeans.labels_ == i)]\n",
    "    avg = 0.0\n",
    "    for user in users_in_cluster:\n",
    "        avg += (log[log[\"user2\"] == user]).shape[0]\n",
    "    avg /= len(users_in_cluster)\n",
    "    averages[i] = avg\n",
    "    \n",
    "print(averages)"
   ]
  }
 ],
 "metadata": {
  "kernelspec": {
   "display_name": "Python 3",
   "language": "python",
   "name": "python3"
  },
  "language_info": {
   "codemirror_mode": {
    "name": "ipython",
    "version": 3
   },
   "file_extension": ".py",
   "mimetype": "text/x-python",
   "name": "python",
   "nbconvert_exporter": "python",
   "pygments_lexer": "ipython3",
   "version": "3.6.4"
  }
 },
 "nbformat": 4,
 "nbformat_minor": 2
}
